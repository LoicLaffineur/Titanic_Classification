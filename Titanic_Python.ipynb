{
  "cells": [
    {
      "cell_type": "markdown",
      "metadata": {
        "id": "pFbg4eiLp-TB"
      },
      "source": [
        "# Kaggle Titanic Project :"
      ]
    },
    {
      "cell_type": "code",
      "execution_count": 1,
      "metadata": {
        "id": "RrEdhSMklbIZ",
        "colab": {
          "base_uri": "https://localhost:8080/"
        },
        "outputId": "5cdae69f-24e4-44a8-9c28-21ccf37151d2"
      },
      "outputs": [
        {
          "output_type": "stream",
          "name": "stderr",
          "text": [
            "/usr/local/lib/python3.11/dist-packages/dask/dataframe/__init__.py:42: FutureWarning: \n",
            "Dask dataframe query planning is disabled because dask-expr is not installed.\n",
            "\n",
            "You can install it with `pip install dask[dataframe]` or `conda install dask`.\n",
            "This will raise in a future version.\n",
            "\n",
            "  warnings.warn(msg, FutureWarning)\n"
          ]
        }
      ],
      "source": [
        "# Libraries :\n",
        "from pathlib import Path\n",
        "\n",
        "import pandas as pd\n",
        "import numpy as np\n",
        "import matplotlib.pyplot as plt\n",
        "import seaborn as sns\n",
        "import pickle\n",
        "import time\n",
        "\n",
        "from scipy.stats import uniform, randint\n",
        "\n",
        "# Model dev part :\n",
        "from sklearn.preprocessing import StandardScaler\n",
        "from sklearn.model_selection import train_test_split, RandomizedSearchCV\n",
        "from sklearn.linear_model import LogisticRegression\n",
        "from sklearn.svm import SVC\n",
        "from sklearn.ensemble import RandomForestClassifier\n",
        "from xgboost import XGBClassifier\n",
        "from lightgbm import LGBMClassifier\n",
        "from sklearn.neighbors import KNeighborsClassifier\n",
        "from sklearn.ensemble import VotingClassifier\n",
        "from sklearn.metrics import accuracy_score, confusion_matrix, classification_report\n",
        "from sklearn.neural_network import MLPClassifier\n",
        "\n",
        "import tensorflow as tf"
      ]
    },
    {
      "cell_type": "markdown",
      "metadata": {
        "id": "-00-GbAHp-TD"
      },
      "source": [
        "## Datas :"
      ]
    },
    {
      "cell_type": "markdown",
      "metadata": {
        "id": "TWTYAFUwp-TE"
      },
      "source": [
        "    Variable |\tDefinition\t     |  Key\n",
        "    survival |\tSurvival \t     |  0 = No, 1 = Yes\n",
        "    pclass \t |  Ticket class \t |  1 = 1st, 2 = 2nd, 3 = 3rd\n",
        "    sex \t |  Sex\n",
        "    Age \t |  Age in years\n",
        "    sibsp \t |  # of siblings / spouses aboard the Titanic\n",
        "    parch \t |  # of parents / children aboard the Titanic\n",
        "    ticket \t |  Ticket number\n",
        "    fare \t |  Passenger fare\n",
        "    cabin \t |  Cabin number\n",
        "    embarked |  Port of Embarkation  | C = Cherbourg, Q = Queenstown, S = Southampton"
      ]
    },
    {
      "cell_type": "code",
      "execution_count": null,
      "metadata": {
        "colab": {
          "base_uri": "https://localhost:8080/",
          "height": 339
        },
        "id": "c409ewvKp-TE",
        "outputId": "9d8d8fd1-7530-47bc-b56c-fbe440b00bbb"
      },
      "outputs": [
        {
          "output_type": "error",
          "ename": "FileNotFoundError",
          "evalue": "[Errno 2] No such file or directory: '/content/data/train.csv'",
          "traceback": [
            "\u001b[0;31m---------------------------------------------------------------------------\u001b[0m",
            "\u001b[0;31mFileNotFoundError\u001b[0m                         Traceback (most recent call last)",
            "\u001b[0;32m<ipython-input-2-f2c64efed260>\u001b[0m in \u001b[0;36m<cell line: 0>\u001b[0;34m()\u001b[0m\n\u001b[1;32m      1\u001b[0m \u001b[0mpath\u001b[0m\u001b[0;34m=\u001b[0m\u001b[0mPath\u001b[0m\u001b[0;34m(\u001b[0m\u001b[0;34m'train.csv'\u001b[0m\u001b[0;34m)\u001b[0m\u001b[0;34m.\u001b[0m\u001b[0mparent\u001b[0m\u001b[0;34m.\u001b[0m\u001b[0mabsolute\u001b[0m\u001b[0;34m(\u001b[0m\u001b[0;34m)\u001b[0m\u001b[0;34m\u001b[0m\u001b[0;34m\u001b[0m\u001b[0m\n\u001b[1;32m      2\u001b[0m \u001b[0;34m\u001b[0m\u001b[0m\n\u001b[0;32m----> 3\u001b[0;31m \u001b[0mtrain\u001b[0m\u001b[0;34m=\u001b[0m\u001b[0mpd\u001b[0m\u001b[0;34m.\u001b[0m\u001b[0mread_csv\u001b[0m\u001b[0;34m(\u001b[0m\u001b[0mpath\u001b[0m\u001b[0;34m/\u001b[0m\u001b[0;34m'data/train.csv'\u001b[0m\u001b[0;34m)\u001b[0m\u001b[0;34m\u001b[0m\u001b[0;34m\u001b[0m\u001b[0m\n\u001b[0m\u001b[1;32m      4\u001b[0m \u001b[0mtest\u001b[0m\u001b[0;34m=\u001b[0m\u001b[0mpd\u001b[0m\u001b[0;34m.\u001b[0m\u001b[0mread_csv\u001b[0m\u001b[0;34m(\u001b[0m\u001b[0mpath\u001b[0m\u001b[0;34m/\u001b[0m\u001b[0;34m'data/test.csv'\u001b[0m\u001b[0;34m)\u001b[0m\u001b[0;34m\u001b[0m\u001b[0;34m\u001b[0m\u001b[0m\n",
            "\u001b[0;32m/usr/local/lib/python3.11/dist-packages/pandas/io/parsers/readers.py\u001b[0m in \u001b[0;36mread_csv\u001b[0;34m(filepath_or_buffer, sep, delimiter, header, names, index_col, usecols, dtype, engine, converters, true_values, false_values, skipinitialspace, skiprows, skipfooter, nrows, na_values, keep_default_na, na_filter, verbose, skip_blank_lines, parse_dates, infer_datetime_format, keep_date_col, date_parser, date_format, dayfirst, cache_dates, iterator, chunksize, compression, thousands, decimal, lineterminator, quotechar, quoting, doublequote, escapechar, comment, encoding, encoding_errors, dialect, on_bad_lines, delim_whitespace, low_memory, memory_map, float_precision, storage_options, dtype_backend)\u001b[0m\n\u001b[1;32m   1024\u001b[0m     \u001b[0mkwds\u001b[0m\u001b[0;34m.\u001b[0m\u001b[0mupdate\u001b[0m\u001b[0;34m(\u001b[0m\u001b[0mkwds_defaults\u001b[0m\u001b[0;34m)\u001b[0m\u001b[0;34m\u001b[0m\u001b[0;34m\u001b[0m\u001b[0m\n\u001b[1;32m   1025\u001b[0m \u001b[0;34m\u001b[0m\u001b[0m\n\u001b[0;32m-> 1026\u001b[0;31m     \u001b[0;32mreturn\u001b[0m \u001b[0m_read\u001b[0m\u001b[0;34m(\u001b[0m\u001b[0mfilepath_or_buffer\u001b[0m\u001b[0;34m,\u001b[0m \u001b[0mkwds\u001b[0m\u001b[0;34m)\u001b[0m\u001b[0;34m\u001b[0m\u001b[0;34m\u001b[0m\u001b[0m\n\u001b[0m\u001b[1;32m   1027\u001b[0m \u001b[0;34m\u001b[0m\u001b[0m\n\u001b[1;32m   1028\u001b[0m \u001b[0;34m\u001b[0m\u001b[0m\n",
            "\u001b[0;32m/usr/local/lib/python3.11/dist-packages/pandas/io/parsers/readers.py\u001b[0m in \u001b[0;36m_read\u001b[0;34m(filepath_or_buffer, kwds)\u001b[0m\n\u001b[1;32m    618\u001b[0m \u001b[0;34m\u001b[0m\u001b[0m\n\u001b[1;32m    619\u001b[0m     \u001b[0;31m# Create the parser.\u001b[0m\u001b[0;34m\u001b[0m\u001b[0;34m\u001b[0m\u001b[0m\n\u001b[0;32m--> 620\u001b[0;31m     \u001b[0mparser\u001b[0m \u001b[0;34m=\u001b[0m \u001b[0mTextFileReader\u001b[0m\u001b[0;34m(\u001b[0m\u001b[0mfilepath_or_buffer\u001b[0m\u001b[0;34m,\u001b[0m \u001b[0;34m**\u001b[0m\u001b[0mkwds\u001b[0m\u001b[0;34m)\u001b[0m\u001b[0;34m\u001b[0m\u001b[0;34m\u001b[0m\u001b[0m\n\u001b[0m\u001b[1;32m    621\u001b[0m \u001b[0;34m\u001b[0m\u001b[0m\n\u001b[1;32m    622\u001b[0m     \u001b[0;32mif\u001b[0m \u001b[0mchunksize\u001b[0m \u001b[0;32mor\u001b[0m \u001b[0miterator\u001b[0m\u001b[0;34m:\u001b[0m\u001b[0;34m\u001b[0m\u001b[0;34m\u001b[0m\u001b[0m\n",
            "\u001b[0;32m/usr/local/lib/python3.11/dist-packages/pandas/io/parsers/readers.py\u001b[0m in \u001b[0;36m__init__\u001b[0;34m(self, f, engine, **kwds)\u001b[0m\n\u001b[1;32m   1618\u001b[0m \u001b[0;34m\u001b[0m\u001b[0m\n\u001b[1;32m   1619\u001b[0m         \u001b[0mself\u001b[0m\u001b[0;34m.\u001b[0m\u001b[0mhandles\u001b[0m\u001b[0;34m:\u001b[0m \u001b[0mIOHandles\u001b[0m \u001b[0;34m|\u001b[0m \u001b[0;32mNone\u001b[0m \u001b[0;34m=\u001b[0m \u001b[0;32mNone\u001b[0m\u001b[0;34m\u001b[0m\u001b[0;34m\u001b[0m\u001b[0m\n\u001b[0;32m-> 1620\u001b[0;31m         \u001b[0mself\u001b[0m\u001b[0;34m.\u001b[0m\u001b[0m_engine\u001b[0m \u001b[0;34m=\u001b[0m \u001b[0mself\u001b[0m\u001b[0;34m.\u001b[0m\u001b[0m_make_engine\u001b[0m\u001b[0;34m(\u001b[0m\u001b[0mf\u001b[0m\u001b[0;34m,\u001b[0m \u001b[0mself\u001b[0m\u001b[0;34m.\u001b[0m\u001b[0mengine\u001b[0m\u001b[0;34m)\u001b[0m\u001b[0;34m\u001b[0m\u001b[0;34m\u001b[0m\u001b[0m\n\u001b[0m\u001b[1;32m   1621\u001b[0m \u001b[0;34m\u001b[0m\u001b[0m\n\u001b[1;32m   1622\u001b[0m     \u001b[0;32mdef\u001b[0m \u001b[0mclose\u001b[0m\u001b[0;34m(\u001b[0m\u001b[0mself\u001b[0m\u001b[0;34m)\u001b[0m \u001b[0;34m->\u001b[0m \u001b[0;32mNone\u001b[0m\u001b[0;34m:\u001b[0m\u001b[0;34m\u001b[0m\u001b[0;34m\u001b[0m\u001b[0m\n",
            "\u001b[0;32m/usr/local/lib/python3.11/dist-packages/pandas/io/parsers/readers.py\u001b[0m in \u001b[0;36m_make_engine\u001b[0;34m(self, f, engine)\u001b[0m\n\u001b[1;32m   1878\u001b[0m                 \u001b[0;32mif\u001b[0m \u001b[0;34m\"b\"\u001b[0m \u001b[0;32mnot\u001b[0m \u001b[0;32min\u001b[0m \u001b[0mmode\u001b[0m\u001b[0;34m:\u001b[0m\u001b[0;34m\u001b[0m\u001b[0;34m\u001b[0m\u001b[0m\n\u001b[1;32m   1879\u001b[0m                     \u001b[0mmode\u001b[0m \u001b[0;34m+=\u001b[0m \u001b[0;34m\"b\"\u001b[0m\u001b[0;34m\u001b[0m\u001b[0;34m\u001b[0m\u001b[0m\n\u001b[0;32m-> 1880\u001b[0;31m             self.handles = get_handle(\n\u001b[0m\u001b[1;32m   1881\u001b[0m                 \u001b[0mf\u001b[0m\u001b[0;34m,\u001b[0m\u001b[0;34m\u001b[0m\u001b[0;34m\u001b[0m\u001b[0m\n\u001b[1;32m   1882\u001b[0m                 \u001b[0mmode\u001b[0m\u001b[0;34m,\u001b[0m\u001b[0;34m\u001b[0m\u001b[0;34m\u001b[0m\u001b[0m\n",
            "\u001b[0;32m/usr/local/lib/python3.11/dist-packages/pandas/io/common.py\u001b[0m in \u001b[0;36mget_handle\u001b[0;34m(path_or_buf, mode, encoding, compression, memory_map, is_text, errors, storage_options)\u001b[0m\n\u001b[1;32m    871\u001b[0m         \u001b[0;32mif\u001b[0m \u001b[0mioargs\u001b[0m\u001b[0;34m.\u001b[0m\u001b[0mencoding\u001b[0m \u001b[0;32mand\u001b[0m \u001b[0;34m\"b\"\u001b[0m \u001b[0;32mnot\u001b[0m \u001b[0;32min\u001b[0m \u001b[0mioargs\u001b[0m\u001b[0;34m.\u001b[0m\u001b[0mmode\u001b[0m\u001b[0;34m:\u001b[0m\u001b[0;34m\u001b[0m\u001b[0;34m\u001b[0m\u001b[0m\n\u001b[1;32m    872\u001b[0m             \u001b[0;31m# Encoding\u001b[0m\u001b[0;34m\u001b[0m\u001b[0;34m\u001b[0m\u001b[0m\n\u001b[0;32m--> 873\u001b[0;31m             handle = open(\n\u001b[0m\u001b[1;32m    874\u001b[0m                 \u001b[0mhandle\u001b[0m\u001b[0;34m,\u001b[0m\u001b[0;34m\u001b[0m\u001b[0;34m\u001b[0m\u001b[0m\n\u001b[1;32m    875\u001b[0m                 \u001b[0mioargs\u001b[0m\u001b[0;34m.\u001b[0m\u001b[0mmode\u001b[0m\u001b[0;34m,\u001b[0m\u001b[0;34m\u001b[0m\u001b[0;34m\u001b[0m\u001b[0m\n",
            "\u001b[0;31mFileNotFoundError\u001b[0m: [Errno 2] No such file or directory: '/content/data/train.csv'"
          ]
        }
      ],
      "source": [
        "path=Path('train.csv').parent.absolute()\n",
        "\n",
        "train=pd.read_csv(path/'data/train.csv')\n",
        "test=pd.read_csv(path/'data/test.csv')"
      ]
    },
    {
      "cell_type": "markdown",
      "metadata": {
        "id": "GyAb9Mtxp-TF"
      },
      "source": [
        "## Exploration Data Analysis :"
      ]
    },
    {
      "cell_type": "markdown",
      "metadata": {
        "id": "FK-Yrtqkp-TF"
      },
      "source": [
        "### Global exploration :"
      ]
    },
    {
      "cell_type": "code",
      "execution_count": null,
      "metadata": {
        "id": "aXP24awcp-TG"
      },
      "outputs": [],
      "source": [
        "print(\"Shape of train :\", train.shape)\n",
        "print(\"Shape of test :\", test.shape, \"\\n\")\n",
        "\n",
        "print(\"Percentage by category (0=Died) :\\n\", train['Survived'].value_counts()/len(train)*100,\"\\n\")\n",
        "\n",
        "print(train.info())"
      ]
    },
    {
      "cell_type": "code",
      "execution_count": null,
      "metadata": {
        "id": "82W1K42dp-TH"
      },
      "outputs": [],
      "source": [
        "train.drop(['Ticket','PassengerId'],axis=1,inplace=True) # I will delete them because I don't think ticket's number and PassengerId will be useful for prediction\n",
        "test.drop(['Ticket','PassengerId'],axis=1,inplace=True)"
      ]
    },
    {
      "cell_type": "code",
      "execution_count": null,
      "metadata": {
        "id": "TVbt3KNLp-TH"
      },
      "outputs": [],
      "source": [
        "for col in train.columns :\n",
        "    if train[col].dtype == 'object' :\n",
        "        print(col, \" :\\n\", train[col].value_counts())\n",
        "    elif train[col].dtype in ['float64','int64'] :\n",
        "        print(col, \" :\\n\", train[col].describe())\n",
        "    print(\"\\n\")"
      ]
    },
    {
      "cell_type": "code",
      "execution_count": null,
      "metadata": {
        "id": "1NohjQuGp-TI"
      },
      "outputs": [],
      "source": [
        "train['Sex'] = (train['Sex'] == 'male').astype('int64') # Change type of Sex to int (0=Female 1=Male)\n",
        "test['Sex'] = (test['Sex'] == 'male').astype('int64') # Change type of Sex to int (0=Female 1=Male)"
      ]
    },
    {
      "cell_type": "code",
      "execution_count": null,
      "metadata": {
        "id": "ZSFNcrqgp-TJ"
      },
      "outputs": [],
      "source": [
        "# The full name won't be useful for prediction but the title may (Mr, Mrs, ...) as seen in Manav SEHGAL's notebook : https://www.kaggle.com/code/startupsci/titanic-data-science-solutions/notebook\n",
        "train['Title']=train.Name.str.extract(' ([A-Za-z]+)\\.',expand=False)\n",
        "test['Title']=test.Name.str.extract(' ([A-Za-z]+)\\.',expand=False)\n",
        "\n",
        "count = pd.concat([train['Title'],test['Title']],axis=0).value_counts()\n",
        "\n",
        "print(count)"
      ]
    },
    {
      "cell_type": "code",
      "execution_count": null,
      "metadata": {
        "id": "ALRYacY6p-TJ"
      },
      "outputs": [],
      "source": [
        "train['Title'] = train['Title'].replace(count[count<10].index,'Rare')\n",
        "test['Title'] = test['Title'].replace(count[count<10].index,'Rare')\n",
        "\n",
        "count = pd.concat([train['Title'],test['Title']],axis=0).value_counts()\n",
        "print(count)\n",
        "\n",
        "train.drop('Name',axis=1,inplace=True)\n",
        "test.drop('Name',axis=1,inplace=True)"
      ]
    },
    {
      "cell_type": "code",
      "execution_count": null,
      "metadata": {
        "id": "OptdCesbp-TK"
      },
      "outputs": [],
      "source": [
        "# Let's also create a family size feature : SibSp + Parch + 1 (spouses / sibling + parent / child + the person)\n",
        "train['Family size'] = train['SibSp'] + train['Parch'] + 1\n",
        "test['Family size'] = test['SibSp'] + test['Parch'] + 1"
      ]
    },
    {
      "cell_type": "code",
      "execution_count": null,
      "metadata": {
        "id": "TtA4S0tSp-TK"
      },
      "outputs": [],
      "source": [
        "train.shape, test.shape"
      ]
    },
    {
      "cell_type": "markdown",
      "metadata": {
        "id": "tDRX_S6zp-TK"
      },
      "source": [
        "### Missing :"
      ]
    },
    {
      "cell_type": "code",
      "execution_count": null,
      "metadata": {
        "id": "umh40P7xp-TK"
      },
      "outputs": [],
      "source": [
        "data = pd.concat([train.drop('Survived',axis=1),test],axis=0)\n",
        "\n",
        "miss=pd.concat([data.isna().sum(),data.isna().sum()/len(data)*100,data.dtypes],axis=1)\n",
        "miss.columns=['Count','Percentage','Type']\n",
        "miss=miss.sort_values(by='Count',ascending=False)\n",
        "miss[miss['Count']>0]"
      ]
    },
    {
      "cell_type": "code",
      "execution_count": null,
      "metadata": {
        "id": "bHTW_jMQp-TL"
      },
      "outputs": [],
      "source": [
        "print('Embarked :\\n',data['Embarked'].value_counts()) # For this one let's take mode\n",
        "print('Fare :\\n', data['Fare'].describe()) # A very large dispersion : i'll take the median\n",
        "print('Age :\\n', data['Age'].describe()) # Relatively close, only 1 year between median and mean. Let's take the mean"
      ]
    },
    {
      "cell_type": "code",
      "execution_count": null,
      "metadata": {
        "id": "g4B4v7XIp-TM"
      },
      "outputs": [],
      "source": [
        "data['Embarked']=data['Embarked'].fillna(data['Embarked'].mode()[0])\n",
        "data['Age']=data['Age'].fillna(data['Age'].mean())\n",
        "data['Fare']=data['Fare'].fillna(data['Fare'].median())\n",
        "#data['Cabin']=data['Cabin'].fillna('Unknow')\n",
        "data.drop('Cabin',axis=1,inplace=True)"
      ]
    },
    {
      "cell_type": "code",
      "execution_count": null,
      "metadata": {
        "id": "vDUYKwXYp-TM"
      },
      "outputs": [],
      "source": [
        "miss=pd.concat([data.isna().sum(),data.isna().sum()/len(data)*100,data.dtypes],axis=1)\n",
        "miss.columns=['Count','Percentage','Type']\n",
        "miss=miss.sort_values(by='Count',ascending=False)\n",
        "miss[miss['Count']>0]"
      ]
    },
    {
      "cell_type": "code",
      "execution_count": null,
      "metadata": {
        "id": "5gClhfHtp-TM"
      },
      "outputs": [],
      "source": [
        "labels=['0-15','15-35','35-65','65+']\n",
        "bins=[0,15,35,65,120]\n",
        "data['AgeBand']=pd.cut(data['Age'],bins,labels=labels,include_lowest=True)\n",
        "# 0 - 15 y.o (excluded)\n",
        "# 15 - 35 y.o (excluded)\n",
        "# 35 - 65 y.o (excluded)\n",
        "# 65 +"
      ]
    },
    {
      "cell_type": "code",
      "execution_count": null,
      "metadata": {
        "id": "SLWqQKgup-TM"
      },
      "outputs": [],
      "source": [
        "data=pd.get_dummies(data)\n",
        "\n",
        "train=pd.concat([data.iloc[:len(train),],train['Survived']],axis=1)\n",
        "test=data.iloc[len(train):,]\n",
        "\n",
        "train.shape, test.shape"
      ]
    },
    {
      "cell_type": "markdown",
      "metadata": {
        "id": "UaWZFUfxp-TN"
      },
      "source": [
        "### Correlation :"
      ]
    },
    {
      "cell_type": "code",
      "execution_count": null,
      "metadata": {
        "id": "meRLjZi_p-TN"
      },
      "outputs": [],
      "source": [
        "corr=train.corr('spearman')\n",
        "sns.heatmap(corr)"
      ]
    },
    {
      "cell_type": "code",
      "execution_count": null,
      "metadata": {
        "id": "uXGIFJfLp-TN"
      },
      "outputs": [],
      "source": [
        "sns.barplot(corr['Survived'].sort_values()[:-1],orient='h')"
      ]
    },
    {
      "cell_type": "markdown",
      "metadata": {
        "id": "e0yWZK2OTjKb"
      },
      "source": [
        "## Model Creation :"
      ]
    },
    {
      "cell_type": "code",
      "execution_count": null,
      "metadata": {
        "id": "L4unMgEap-TO"
      },
      "outputs": [],
      "source": [
        "# Separating features :\n",
        "y=train['Survived']\n",
        "train.drop('Survived',axis=1,inplace=True)\n",
        "\n",
        "# Normalization :\n",
        "scaler=StandardScaler()\n",
        "scaler.fit(train)\n",
        "train_scaled = scaler.transform(train)\n",
        "test_scaled = scaler.transform(test)\n",
        "\n",
        "print(train_scaled.shape, test_scaled.shape)\n",
        "\n",
        "# Splitting in train / test :\n",
        "X_train, X_test, y_train, y_test = train_test_split(train_scaled, y, test_size=0.3, random_state=1, shuffle=True) # 70/30%\n",
        "\n",
        "print(X_train.shape, X_test.shape, y_train.shape, y_test.shape)\n",
        "\n",
        "# Hyperparameters optimisation :\n",
        "def cv(model,distrib,X=X_train,y=y_train) :\n",
        "    process = RandomizedSearchCV (estimator=model,param_distributions=distrib,n_iter=50,scoring=\"accuracy\",cv=5,verbose=0,n_jobs=-1,random_state=1)\n",
        "    process.fit(X,y)\n",
        "    return process.best_params_, process.best_score_"
      ]
    },
    {
      "cell_type": "code",
      "execution_count": null,
      "metadata": {
        "id": "vkTT8np7uCW9"
      },
      "outputs": [],
      "source": [
        "# Define the differents models and there distribution for RandomCV :\n",
        "\n",
        "reglog=LogisticRegression()\n",
        "reglog_distrib = {'C': uniform(0.0001,100), 'max_iter': [100, 200, 500]}\n",
        "\n",
        "knn=KNeighborsClassifier()\n",
        "knn_distrib = {'n_neighbors' : randint(3,20), 'weights' : ['uniform','distance'],}\n",
        "\n",
        "svc = SVC()\n",
        "svc_distrib = {'C': uniform(0.0001,100), 'kernel': ['linear', 'poly', 'rbf', 'sigmoid'], 'degree': randint(2,5), 'gamma': ['scale', 'auto'], 'coef0': uniform(0,1)}\n",
        "\n",
        "rf = RandomForestClassifier()\n",
        "rf_distrib = {'n_estimators' : randint(50,501), 'max_depth':[None, 10, 20, 30, 50], 'min_samples_split': randint(2,11),\n",
        "           'min_samples_leaf': randint(1,6), 'max_features':[\"sqrt\", \"log2\", None]}\n",
        "\n",
        "xgb = XGBClassifier()\n",
        "xgb_distrib = {'n_estimators' : randint(50,501), 'max_depth': randint(1,11), 'subsample': uniform(0.5,0.5), 'learning_rate' : uniform(0.001,0.3), 'colsample_bytree': uniform(0.5,0.5),\n",
        "            'gamma' : uniform(0,5), 'reg_alpha' : uniform(0.1,10), 'reg_lambda' : uniform(0.1,10)}\n",
        "\n",
        "lgb = LGBMClassifier(verbose=-1)\n",
        "lgb_distrib = {'n_estimators' : randint(50,501), 'max_depth': randint(1,11), 'subsample': uniform(0.5,0.5), 'learning_rate' : uniform(0.001,0.3), 'colsample_bytree': uniform(0.5,0.5),\n",
        "            'reg_alpha' : uniform(0.1,10), 'reg_lambda' : uniform(0.1,10), 'num_leaves' : randint(10,70)}\n",
        "\n",
        "mlp = MLPClassifier(max_iter=500,random_state=1,verbose=0)\n",
        "mlp_distrib = {\n",
        "    'hidden_layer_sizes': [(8,), (16,), (32,), (64,), (128,), (256,), (8,8), (16,16), (32, 32), (64, 64), (128, 128), (256, 256)],\n",
        "    'activation': ['identity', 'logistic', 'tanh', 'relu'],\n",
        "    'solver': ['adam', 'lbfgs','sgd'], # solver lbfgs said to work well with small datasets\n",
        "    'alpha': uniform(0.0001, 10),\n",
        "    'learning_rate': ['constant', 'adaptive','invscaling']}\n",
        "\n",
        "models = [reglog, knn, svc, rf, xgb, lgb,mlp]\n",
        "distribs = [reglog_distrib, knn_distrib, svc_distrib, rf_distrib, xgb_distrib, lgb_distrib,mlp_distrib]\n",
        "model_names=['Logistic Reg','KNN','SVC','RandomForest','Xgboost','LightGB','MLP']"
      ]
    },
    {
      "cell_type": "code",
      "execution_count": null,
      "metadata": {
        "id": "Rt2EojShp-TO"
      },
      "outputs": [],
      "source": [
        "# Optimization :\n",
        "params=dict()\n",
        "res=dict()\n",
        "times=dict()\n",
        "for (model, distrib, model_name) in zip(models,distribs,model_names) :\n",
        "    print(model_name)\n",
        "    start=time.time()\n",
        "    param, score =cv(model,distrib)\n",
        "    end=time.time()\n",
        "    print(end-start)\n",
        "    params[model_name]=param\n",
        "    res[model_name]=score\n",
        "    times[model_name]=end-start"
      ]
    },
    {
      "cell_type": "code",
      "execution_count": null,
      "metadata": {
        "id": "nxUzrvDAp-TO"
      },
      "outputs": [],
      "source": [
        "res"
      ]
    },
    {
      "cell_type": "code",
      "execution_count": null,
      "metadata": {
        "colab": {
          "base_uri": "https://localhost:8080/",
          "height": 228
        },
        "id": "GRxSh18yp-TO",
        "outputId": "96e00c34-3aa1-4d7b-cc8c-8068a13d1d39"
      },
      "outputs": [
        {
          "output_type": "stream",
          "name": "stdout",
          "text": [
            "Saving parameters to Models parameters & Data/saved_params.pkl\n"
          ]
        },
        {
          "output_type": "error",
          "ename": "NameError",
          "evalue": "name 'params' is not defined",
          "traceback": [
            "\u001b[0;31m---------------------------------------------------------------------------\u001b[0m",
            "\u001b[0;31mNameError\u001b[0m                                 Traceback (most recent call last)",
            "\u001b[0;32m<ipython-input-3-defa86882a41>\u001b[0m in \u001b[0;36m<cell line: 0>\u001b[0;34m()\u001b[0m\n\u001b[1;32m      6\u001b[0m \u001b[0mprint\u001b[0m\u001b[0;34m(\u001b[0m\u001b[0;34mf\"Saving parameters to {MODEL_PATH/'saved_params.pkl'}\"\u001b[0m\u001b[0;34m)\u001b[0m\u001b[0;34m\u001b[0m\u001b[0;34m\u001b[0m\u001b[0m\n\u001b[1;32m      7\u001b[0m \u001b[0;32mwith\u001b[0m \u001b[0mopen\u001b[0m\u001b[0;34m(\u001b[0m\u001b[0mMODEL_PATH\u001b[0m\u001b[0;34m/\u001b[0m\u001b[0;34m'saved_params.pkl'\u001b[0m\u001b[0;34m,\u001b[0m \u001b[0;34m'wb'\u001b[0m\u001b[0;34m)\u001b[0m \u001b[0;32mas\u001b[0m \u001b[0mf\u001b[0m\u001b[0;34m:\u001b[0m\u001b[0;34m\u001b[0m\u001b[0;34m\u001b[0m\u001b[0m\n\u001b[0;32m----> 8\u001b[0;31m     \u001b[0mpickle\u001b[0m\u001b[0;34m.\u001b[0m\u001b[0mdump\u001b[0m\u001b[0;34m(\u001b[0m\u001b[0mparams\u001b[0m\u001b[0;34m,\u001b[0m \u001b[0mf\u001b[0m\u001b[0;34m)\u001b[0m\u001b[0;34m\u001b[0m\u001b[0;34m\u001b[0m\u001b[0m\n\u001b[0m\u001b[1;32m      9\u001b[0m \u001b[0;34m\u001b[0m\u001b[0m\n\u001b[1;32m     10\u001b[0m \u001b[0mprint\u001b[0m\u001b[0;34m(\u001b[0m\u001b[0;34mf\"Saving scores to {MODEL_PATH/'saved_scores_cv.pkl'}\"\u001b[0m\u001b[0;34m)\u001b[0m\u001b[0;34m\u001b[0m\u001b[0;34m\u001b[0m\u001b[0m\n",
            "\u001b[0;31mNameError\u001b[0m: name 'params' is not defined"
          ]
        }
      ],
      "source": [
        "# Save the optimized hyperparameters :\n",
        "MODEL_PATH=Path(\"Models parameters & Data\")\n",
        "MODEL_PATH.mkdir(parents=True,exist_ok=True)\n",
        "MODEL_SAVE_PATH = MODEL_PATH/'saved_dictionary.pkl'\n",
        "\n",
        "print(f\"Saving parameters to {MODEL_PATH/'saved_params.pkl'}\")\n",
        "with open(MODEL_PATH/'saved_params.pkl', 'wb') as f:\n",
        "    pickle.dump(params, f)\n",
        "\n",
        "print(f\"Saving scores to {MODEL_PATH/'saved_scores_cv.pkl'}\")\n",
        "with open(MODEL_PATH/'saved_scores_cv.pkl', 'wb') as f:\n",
        "    pickle.dump(res, f)\n",
        "\n",
        "print(f\"Saving times to {MODEL_PATH/'saved_times_cv.pkl'}\")\n",
        "with open(MODEL_PATH/'saved_times_cv.pkl', 'wb') as f:\n",
        "    pickle.dump(times, f)\n",
        "\n",
        "print(f\"Saving data in {MODEL_PATH} folder\")\n",
        "train.to_csv(MODEL_PATH/'train_final.csv', index=False)\n",
        "test.to_csv(MODEL_PATH/'test_final.csv', index=False)\n",
        "y.to_csv(MODEL_PATH/'y_final.csv', index=False)"
      ]
    },
    {
      "cell_type": "markdown",
      "source": [
        "## Loads:"
      ],
      "metadata": {
        "id": "eCZQyznVqYlz"
      }
    },
    {
      "cell_type": "code",
      "execution_count": null,
      "metadata": {
        "colab": {
          "base_uri": "https://localhost:8080/"
        },
        "id": "9M7hKOtPp-TP",
        "outputId": "9e1a9b4a-185a-44f6-b29b-05005b99cc89"
      },
      "outputs": [
        {
          "output_type": "stream",
          "name": "stdout",
          "text": [
            "(891, 19) (418, 19) (891, 1)\n"
          ]
        }
      ],
      "source": [
        "path=Path(Path('train_final.csv').parent.absolute(),Path(\"Models parameters & Data\"))\n",
        "with open(path/'saved_params.pkl', 'rb') as f: # Optimized parameters\n",
        "    loaded_dict = pickle.load(f)\n",
        "\n",
        "with open(path/'saved_scores_cv.pkl', 'rb') as f: # Score for the optimized parameters\n",
        "    loaded_scores = pickle.load(f)\n",
        "\n",
        "with open(path/'saved_times_cv.pkl', 'rb') as f: # times taken to optimize the parameters\n",
        "    loaded_times = pickle.load(f)\n",
        "\n",
        "# Data :\n",
        "tr=pd.read_csv(path/'train_final.csv')\n",
        "te=pd.read_csv(path/'test_final.csv')\n",
        "y=pd.read_csv(path/'y_final.csv')\n",
        "\n",
        "# Normalization :\n",
        "scaler=StandardScaler()\n",
        "scaler.fit(tr)\n",
        "train_scaled = scaler.transform(tr)\n",
        "test_scaled = scaler.transform(te)\n",
        "\n",
        "print(train_scaled.shape, test_scaled.shape, y.shape)\n",
        "\n",
        "# Splitting in train / test :\n",
        "X_train, X_test, y_train, y_test = train_test_split(train_scaled,y,test_size=0.3,random_state=1,shuffle=True) # 70/30%\n",
        "\n",
        "# Models :\n",
        "reglog = LogisticRegression(**loaded_dict['Logistic Reg'])\n",
        "\n",
        "knn = KNeighborsClassifier(**loaded_dict['KNN'])\n",
        "\n",
        "svc = SVC(**loaded_dict['SVC'])\n",
        "\n",
        "rf = RandomForestClassifier(**loaded_dict['RandomForest'])\n",
        "\n",
        "xgb = XGBClassifier(**loaded_dict['Xgboost'])\n",
        "\n",
        "lgb = LGBMClassifier(**loaded_dict['LightGB'],verbose=-1)\n",
        "\n",
        "mlp = MLPClassifier(**loaded_dict['MLP'],random_state=1,verbose=0)\n",
        "\n",
        "models = [reglog, knn, svc, rf, xgb, lgb,mlp]\n",
        "model_names=['Logistic Reg','KNN','SVC','RandomForest','Xgboost','LightGB','MLP']"
      ]
    },
    {
      "cell_type": "code",
      "execution_count": null,
      "metadata": {
        "colab": {
          "base_uri": "https://localhost:8080/",
          "height": 136
        },
        "id": "7C03-KyIp-TP",
        "outputId": "55068a51-6a97-477d-bc0d-30f08c38880a"
      },
      "outputs": [
        {
          "output_type": "execute_result",
          "data": {
            "text/plain": [
              "VotingClassifier(estimators=[('reglog',\n",
              "                              LogisticRegression(C=41.702300470257406)),\n",
              "                             ('knn', KNeighborsClassifier(n_neighbors=8)),\n",
              "                             ('svc',\n",
              "                              SVC(C=31.342517815924285,\n",
              "                                  coef0=0.6923226156693141, kernel='linear')),\n",
              "                             ('rf',\n",
              "                              RandomForestClassifier(max_depth=30,\n",
              "                                                     max_features=None,\n",
              "                                                     min_samples_leaf=2,\n",
              "                                                     min_samples_split=10,\n",
              "                                                     n_estimators=80)),\n",
              "                             ('xgb',\n",
              "                              XGBClassifier(base_score=...\n",
              "                              LGBMClassifier(colsample_bytree=0.7921945603689646,\n",
              "                                             learning_rate=0.17077360823925794,\n",
              "                                             max_depth=8, n_estimators=293,\n",
              "                                             num_leaves=38,\n",
              "                                             reg_alpha=5.993055369032842,\n",
              "                                             reg_lambda=7.097583600209312,\n",
              "                                             subsample=0.5511672144139129,\n",
              "                                             verbose=-1)),\n",
              "                             ('mlp',\n",
              "                              MLPClassifier(activation='logistic',\n",
              "                                            alpha=4.930695935447459,\n",
              "                                            hidden_layer_sizes=(8,),\n",
              "                                            random_state=1, solver='lbfgs',\n",
              "                                            verbose=0))])"
            ],
            "text/html": [
              "<style>#sk-container-id-1 {\n",
              "  /* Definition of color scheme common for light and dark mode */\n",
              "  --sklearn-color-text: #000;\n",
              "  --sklearn-color-text-muted: #666;\n",
              "  --sklearn-color-line: gray;\n",
              "  /* Definition of color scheme for unfitted estimators */\n",
              "  --sklearn-color-unfitted-level-0: #fff5e6;\n",
              "  --sklearn-color-unfitted-level-1: #f6e4d2;\n",
              "  --sklearn-color-unfitted-level-2: #ffe0b3;\n",
              "  --sklearn-color-unfitted-level-3: chocolate;\n",
              "  /* Definition of color scheme for fitted estimators */\n",
              "  --sklearn-color-fitted-level-0: #f0f8ff;\n",
              "  --sklearn-color-fitted-level-1: #d4ebff;\n",
              "  --sklearn-color-fitted-level-2: #b3dbfd;\n",
              "  --sklearn-color-fitted-level-3: cornflowerblue;\n",
              "\n",
              "  /* Specific color for light theme */\n",
              "  --sklearn-color-text-on-default-background: var(--sg-text-color, var(--theme-code-foreground, var(--jp-content-font-color1, black)));\n",
              "  --sklearn-color-background: var(--sg-background-color, var(--theme-background, var(--jp-layout-color0, white)));\n",
              "  --sklearn-color-border-box: var(--sg-text-color, var(--theme-code-foreground, var(--jp-content-font-color1, black)));\n",
              "  --sklearn-color-icon: #696969;\n",
              "\n",
              "  @media (prefers-color-scheme: dark) {\n",
              "    /* Redefinition of color scheme for dark theme */\n",
              "    --sklearn-color-text-on-default-background: var(--sg-text-color, var(--theme-code-foreground, var(--jp-content-font-color1, white)));\n",
              "    --sklearn-color-background: var(--sg-background-color, var(--theme-background, var(--jp-layout-color0, #111)));\n",
              "    --sklearn-color-border-box: var(--sg-text-color, var(--theme-code-foreground, var(--jp-content-font-color1, white)));\n",
              "    --sklearn-color-icon: #878787;\n",
              "  }\n",
              "}\n",
              "\n",
              "#sk-container-id-1 {\n",
              "  color: var(--sklearn-color-text);\n",
              "}\n",
              "\n",
              "#sk-container-id-1 pre {\n",
              "  padding: 0;\n",
              "}\n",
              "\n",
              "#sk-container-id-1 input.sk-hidden--visually {\n",
              "  border: 0;\n",
              "  clip: rect(1px 1px 1px 1px);\n",
              "  clip: rect(1px, 1px, 1px, 1px);\n",
              "  height: 1px;\n",
              "  margin: -1px;\n",
              "  overflow: hidden;\n",
              "  padding: 0;\n",
              "  position: absolute;\n",
              "  width: 1px;\n",
              "}\n",
              "\n",
              "#sk-container-id-1 div.sk-dashed-wrapped {\n",
              "  border: 1px dashed var(--sklearn-color-line);\n",
              "  margin: 0 0.4em 0.5em 0.4em;\n",
              "  box-sizing: border-box;\n",
              "  padding-bottom: 0.4em;\n",
              "  background-color: var(--sklearn-color-background);\n",
              "}\n",
              "\n",
              "#sk-container-id-1 div.sk-container {\n",
              "  /* jupyter's `normalize.less` sets `[hidden] { display: none; }`\n",
              "     but bootstrap.min.css set `[hidden] { display: none !important; }`\n",
              "     so we also need the `!important` here to be able to override the\n",
              "     default hidden behavior on the sphinx rendered scikit-learn.org.\n",
              "     See: https://github.com/scikit-learn/scikit-learn/issues/21755 */\n",
              "  display: inline-block !important;\n",
              "  position: relative;\n",
              "}\n",
              "\n",
              "#sk-container-id-1 div.sk-text-repr-fallback {\n",
              "  display: none;\n",
              "}\n",
              "\n",
              "div.sk-parallel-item,\n",
              "div.sk-serial,\n",
              "div.sk-item {\n",
              "  /* draw centered vertical line to link estimators */\n",
              "  background-image: linear-gradient(var(--sklearn-color-text-on-default-background), var(--sklearn-color-text-on-default-background));\n",
              "  background-size: 2px 100%;\n",
              "  background-repeat: no-repeat;\n",
              "  background-position: center center;\n",
              "}\n",
              "\n",
              "/* Parallel-specific style estimator block */\n",
              "\n",
              "#sk-container-id-1 div.sk-parallel-item::after {\n",
              "  content: \"\";\n",
              "  width: 100%;\n",
              "  border-bottom: 2px solid var(--sklearn-color-text-on-default-background);\n",
              "  flex-grow: 1;\n",
              "}\n",
              "\n",
              "#sk-container-id-1 div.sk-parallel {\n",
              "  display: flex;\n",
              "  align-items: stretch;\n",
              "  justify-content: center;\n",
              "  background-color: var(--sklearn-color-background);\n",
              "  position: relative;\n",
              "}\n",
              "\n",
              "#sk-container-id-1 div.sk-parallel-item {\n",
              "  display: flex;\n",
              "  flex-direction: column;\n",
              "}\n",
              "\n",
              "#sk-container-id-1 div.sk-parallel-item:first-child::after {\n",
              "  align-self: flex-end;\n",
              "  width: 50%;\n",
              "}\n",
              "\n",
              "#sk-container-id-1 div.sk-parallel-item:last-child::after {\n",
              "  align-self: flex-start;\n",
              "  width: 50%;\n",
              "}\n",
              "\n",
              "#sk-container-id-1 div.sk-parallel-item:only-child::after {\n",
              "  width: 0;\n",
              "}\n",
              "\n",
              "/* Serial-specific style estimator block */\n",
              "\n",
              "#sk-container-id-1 div.sk-serial {\n",
              "  display: flex;\n",
              "  flex-direction: column;\n",
              "  align-items: center;\n",
              "  background-color: var(--sklearn-color-background);\n",
              "  padding-right: 1em;\n",
              "  padding-left: 1em;\n",
              "}\n",
              "\n",
              "\n",
              "/* Toggleable style: style used for estimator/Pipeline/ColumnTransformer box that is\n",
              "clickable and can be expanded/collapsed.\n",
              "- Pipeline and ColumnTransformer use this feature and define the default style\n",
              "- Estimators will overwrite some part of the style using the `sk-estimator` class\n",
              "*/\n",
              "\n",
              "/* Pipeline and ColumnTransformer style (default) */\n",
              "\n",
              "#sk-container-id-1 div.sk-toggleable {\n",
              "  /* Default theme specific background. It is overwritten whether we have a\n",
              "  specific estimator or a Pipeline/ColumnTransformer */\n",
              "  background-color: var(--sklearn-color-background);\n",
              "}\n",
              "\n",
              "/* Toggleable label */\n",
              "#sk-container-id-1 label.sk-toggleable__label {\n",
              "  cursor: pointer;\n",
              "  display: flex;\n",
              "  width: 100%;\n",
              "  margin-bottom: 0;\n",
              "  padding: 0.5em;\n",
              "  box-sizing: border-box;\n",
              "  text-align: center;\n",
              "  align-items: start;\n",
              "  justify-content: space-between;\n",
              "  gap: 0.5em;\n",
              "}\n",
              "\n",
              "#sk-container-id-1 label.sk-toggleable__label .caption {\n",
              "  font-size: 0.6rem;\n",
              "  font-weight: lighter;\n",
              "  color: var(--sklearn-color-text-muted);\n",
              "}\n",
              "\n",
              "#sk-container-id-1 label.sk-toggleable__label-arrow:before {\n",
              "  /* Arrow on the left of the label */\n",
              "  content: \"▸\";\n",
              "  float: left;\n",
              "  margin-right: 0.25em;\n",
              "  color: var(--sklearn-color-icon);\n",
              "}\n",
              "\n",
              "#sk-container-id-1 label.sk-toggleable__label-arrow:hover:before {\n",
              "  color: var(--sklearn-color-text);\n",
              "}\n",
              "\n",
              "/* Toggleable content - dropdown */\n",
              "\n",
              "#sk-container-id-1 div.sk-toggleable__content {\n",
              "  max-height: 0;\n",
              "  max-width: 0;\n",
              "  overflow: hidden;\n",
              "  text-align: left;\n",
              "  /* unfitted */\n",
              "  background-color: var(--sklearn-color-unfitted-level-0);\n",
              "}\n",
              "\n",
              "#sk-container-id-1 div.sk-toggleable__content.fitted {\n",
              "  /* fitted */\n",
              "  background-color: var(--sklearn-color-fitted-level-0);\n",
              "}\n",
              "\n",
              "#sk-container-id-1 div.sk-toggleable__content pre {\n",
              "  margin: 0.2em;\n",
              "  border-radius: 0.25em;\n",
              "  color: var(--sklearn-color-text);\n",
              "  /* unfitted */\n",
              "  background-color: var(--sklearn-color-unfitted-level-0);\n",
              "}\n",
              "\n",
              "#sk-container-id-1 div.sk-toggleable__content.fitted pre {\n",
              "  /* unfitted */\n",
              "  background-color: var(--sklearn-color-fitted-level-0);\n",
              "}\n",
              "\n",
              "#sk-container-id-1 input.sk-toggleable__control:checked~div.sk-toggleable__content {\n",
              "  /* Expand drop-down */\n",
              "  max-height: 200px;\n",
              "  max-width: 100%;\n",
              "  overflow: auto;\n",
              "}\n",
              "\n",
              "#sk-container-id-1 input.sk-toggleable__control:checked~label.sk-toggleable__label-arrow:before {\n",
              "  content: \"▾\";\n",
              "}\n",
              "\n",
              "/* Pipeline/ColumnTransformer-specific style */\n",
              "\n",
              "#sk-container-id-1 div.sk-label input.sk-toggleable__control:checked~label.sk-toggleable__label {\n",
              "  color: var(--sklearn-color-text);\n",
              "  background-color: var(--sklearn-color-unfitted-level-2);\n",
              "}\n",
              "\n",
              "#sk-container-id-1 div.sk-label.fitted input.sk-toggleable__control:checked~label.sk-toggleable__label {\n",
              "  background-color: var(--sklearn-color-fitted-level-2);\n",
              "}\n",
              "\n",
              "/* Estimator-specific style */\n",
              "\n",
              "/* Colorize estimator box */\n",
              "#sk-container-id-1 div.sk-estimator input.sk-toggleable__control:checked~label.sk-toggleable__label {\n",
              "  /* unfitted */\n",
              "  background-color: var(--sklearn-color-unfitted-level-2);\n",
              "}\n",
              "\n",
              "#sk-container-id-1 div.sk-estimator.fitted input.sk-toggleable__control:checked~label.sk-toggleable__label {\n",
              "  /* fitted */\n",
              "  background-color: var(--sklearn-color-fitted-level-2);\n",
              "}\n",
              "\n",
              "#sk-container-id-1 div.sk-label label.sk-toggleable__label,\n",
              "#sk-container-id-1 div.sk-label label {\n",
              "  /* The background is the default theme color */\n",
              "  color: var(--sklearn-color-text-on-default-background);\n",
              "}\n",
              "\n",
              "/* On hover, darken the color of the background */\n",
              "#sk-container-id-1 div.sk-label:hover label.sk-toggleable__label {\n",
              "  color: var(--sklearn-color-text);\n",
              "  background-color: var(--sklearn-color-unfitted-level-2);\n",
              "}\n",
              "\n",
              "/* Label box, darken color on hover, fitted */\n",
              "#sk-container-id-1 div.sk-label.fitted:hover label.sk-toggleable__label.fitted {\n",
              "  color: var(--sklearn-color-text);\n",
              "  background-color: var(--sklearn-color-fitted-level-2);\n",
              "}\n",
              "\n",
              "/* Estimator label */\n",
              "\n",
              "#sk-container-id-1 div.sk-label label {\n",
              "  font-family: monospace;\n",
              "  font-weight: bold;\n",
              "  display: inline-block;\n",
              "  line-height: 1.2em;\n",
              "}\n",
              "\n",
              "#sk-container-id-1 div.sk-label-container {\n",
              "  text-align: center;\n",
              "}\n",
              "\n",
              "/* Estimator-specific */\n",
              "#sk-container-id-1 div.sk-estimator {\n",
              "  font-family: monospace;\n",
              "  border: 1px dotted var(--sklearn-color-border-box);\n",
              "  border-radius: 0.25em;\n",
              "  box-sizing: border-box;\n",
              "  margin-bottom: 0.5em;\n",
              "  /* unfitted */\n",
              "  background-color: var(--sklearn-color-unfitted-level-0);\n",
              "}\n",
              "\n",
              "#sk-container-id-1 div.sk-estimator.fitted {\n",
              "  /* fitted */\n",
              "  background-color: var(--sklearn-color-fitted-level-0);\n",
              "}\n",
              "\n",
              "/* on hover */\n",
              "#sk-container-id-1 div.sk-estimator:hover {\n",
              "  /* unfitted */\n",
              "  background-color: var(--sklearn-color-unfitted-level-2);\n",
              "}\n",
              "\n",
              "#sk-container-id-1 div.sk-estimator.fitted:hover {\n",
              "  /* fitted */\n",
              "  background-color: var(--sklearn-color-fitted-level-2);\n",
              "}\n",
              "\n",
              "/* Specification for estimator info (e.g. \"i\" and \"?\") */\n",
              "\n",
              "/* Common style for \"i\" and \"?\" */\n",
              "\n",
              ".sk-estimator-doc-link,\n",
              "a:link.sk-estimator-doc-link,\n",
              "a:visited.sk-estimator-doc-link {\n",
              "  float: right;\n",
              "  font-size: smaller;\n",
              "  line-height: 1em;\n",
              "  font-family: monospace;\n",
              "  background-color: var(--sklearn-color-background);\n",
              "  border-radius: 1em;\n",
              "  height: 1em;\n",
              "  width: 1em;\n",
              "  text-decoration: none !important;\n",
              "  margin-left: 0.5em;\n",
              "  text-align: center;\n",
              "  /* unfitted */\n",
              "  border: var(--sklearn-color-unfitted-level-1) 1pt solid;\n",
              "  color: var(--sklearn-color-unfitted-level-1);\n",
              "}\n",
              "\n",
              ".sk-estimator-doc-link.fitted,\n",
              "a:link.sk-estimator-doc-link.fitted,\n",
              "a:visited.sk-estimator-doc-link.fitted {\n",
              "  /* fitted */\n",
              "  border: var(--sklearn-color-fitted-level-1) 1pt solid;\n",
              "  color: var(--sklearn-color-fitted-level-1);\n",
              "}\n",
              "\n",
              "/* On hover */\n",
              "div.sk-estimator:hover .sk-estimator-doc-link:hover,\n",
              ".sk-estimator-doc-link:hover,\n",
              "div.sk-label-container:hover .sk-estimator-doc-link:hover,\n",
              ".sk-estimator-doc-link:hover {\n",
              "  /* unfitted */\n",
              "  background-color: var(--sklearn-color-unfitted-level-3);\n",
              "  color: var(--sklearn-color-background);\n",
              "  text-decoration: none;\n",
              "}\n",
              "\n",
              "div.sk-estimator.fitted:hover .sk-estimator-doc-link.fitted:hover,\n",
              ".sk-estimator-doc-link.fitted:hover,\n",
              "div.sk-label-container:hover .sk-estimator-doc-link.fitted:hover,\n",
              ".sk-estimator-doc-link.fitted:hover {\n",
              "  /* fitted */\n",
              "  background-color: var(--sklearn-color-fitted-level-3);\n",
              "  color: var(--sklearn-color-background);\n",
              "  text-decoration: none;\n",
              "}\n",
              "\n",
              "/* Span, style for the box shown on hovering the info icon */\n",
              ".sk-estimator-doc-link span {\n",
              "  display: none;\n",
              "  z-index: 9999;\n",
              "  position: relative;\n",
              "  font-weight: normal;\n",
              "  right: .2ex;\n",
              "  padding: .5ex;\n",
              "  margin: .5ex;\n",
              "  width: min-content;\n",
              "  min-width: 20ex;\n",
              "  max-width: 50ex;\n",
              "  color: var(--sklearn-color-text);\n",
              "  box-shadow: 2pt 2pt 4pt #999;\n",
              "  /* unfitted */\n",
              "  background: var(--sklearn-color-unfitted-level-0);\n",
              "  border: .5pt solid var(--sklearn-color-unfitted-level-3);\n",
              "}\n",
              "\n",
              ".sk-estimator-doc-link.fitted span {\n",
              "  /* fitted */\n",
              "  background: var(--sklearn-color-fitted-level-0);\n",
              "  border: var(--sklearn-color-fitted-level-3);\n",
              "}\n",
              "\n",
              ".sk-estimator-doc-link:hover span {\n",
              "  display: block;\n",
              "}\n",
              "\n",
              "/* \"?\"-specific style due to the `<a>` HTML tag */\n",
              "\n",
              "#sk-container-id-1 a.estimator_doc_link {\n",
              "  float: right;\n",
              "  font-size: 1rem;\n",
              "  line-height: 1em;\n",
              "  font-family: monospace;\n",
              "  background-color: var(--sklearn-color-background);\n",
              "  border-radius: 1rem;\n",
              "  height: 1rem;\n",
              "  width: 1rem;\n",
              "  text-decoration: none;\n",
              "  /* unfitted */\n",
              "  color: var(--sklearn-color-unfitted-level-1);\n",
              "  border: var(--sklearn-color-unfitted-level-1) 1pt solid;\n",
              "}\n",
              "\n",
              "#sk-container-id-1 a.estimator_doc_link.fitted {\n",
              "  /* fitted */\n",
              "  border: var(--sklearn-color-fitted-level-1) 1pt solid;\n",
              "  color: var(--sklearn-color-fitted-level-1);\n",
              "}\n",
              "\n",
              "/* On hover */\n",
              "#sk-container-id-1 a.estimator_doc_link:hover {\n",
              "  /* unfitted */\n",
              "  background-color: var(--sklearn-color-unfitted-level-3);\n",
              "  color: var(--sklearn-color-background);\n",
              "  text-decoration: none;\n",
              "}\n",
              "\n",
              "#sk-container-id-1 a.estimator_doc_link.fitted:hover {\n",
              "  /* fitted */\n",
              "  background-color: var(--sklearn-color-fitted-level-3);\n",
              "}\n",
              "</style><div id=\"sk-container-id-1\" class=\"sk-top-container\"><div class=\"sk-text-repr-fallback\"><pre>VotingClassifier(estimators=[(&#x27;reglog&#x27;,\n",
              "                              LogisticRegression(C=41.702300470257406)),\n",
              "                             (&#x27;knn&#x27;, KNeighborsClassifier(n_neighbors=8)),\n",
              "                             (&#x27;svc&#x27;,\n",
              "                              SVC(C=31.342517815924285,\n",
              "                                  coef0=0.6923226156693141, kernel=&#x27;linear&#x27;)),\n",
              "                             (&#x27;rf&#x27;,\n",
              "                              RandomForestClassifier(max_depth=30,\n",
              "                                                     max_features=None,\n",
              "                                                     min_samples_leaf=2,\n",
              "                                                     min_samples_split=10,\n",
              "                                                     n_estimators=80)),\n",
              "                             (&#x27;xgb&#x27;,\n",
              "                              XGBClassifier(base_score=...\n",
              "                              LGBMClassifier(colsample_bytree=0.7921945603689646,\n",
              "                                             learning_rate=0.17077360823925794,\n",
              "                                             max_depth=8, n_estimators=293,\n",
              "                                             num_leaves=38,\n",
              "                                             reg_alpha=5.993055369032842,\n",
              "                                             reg_lambda=7.097583600209312,\n",
              "                                             subsample=0.5511672144139129,\n",
              "                                             verbose=-1)),\n",
              "                             (&#x27;mlp&#x27;,\n",
              "                              MLPClassifier(activation=&#x27;logistic&#x27;,\n",
              "                                            alpha=4.930695935447459,\n",
              "                                            hidden_layer_sizes=(8,),\n",
              "                                            random_state=1, solver=&#x27;lbfgs&#x27;,\n",
              "                                            verbose=0))])</pre><b>In a Jupyter environment, please rerun this cell to show the HTML representation or trust the notebook. <br />On GitHub, the HTML representation is unable to render, please try loading this page with nbviewer.org.</b></div><div class=\"sk-container\" hidden><div class=\"sk-item sk-dashed-wrapped\"><div class=\"sk-label-container\"><div class=\"sk-label  sk-toggleable\"><input class=\"sk-toggleable__control sk-hidden--visually\" id=\"sk-estimator-id-1\" type=\"checkbox\" ><label for=\"sk-estimator-id-1\" class=\"sk-toggleable__label  sk-toggleable__label-arrow\"><div><div>VotingClassifier</div></div><div><a class=\"sk-estimator-doc-link \" rel=\"noreferrer\" target=\"_blank\" href=\"https://scikit-learn.org/1.6/modules/generated/sklearn.ensemble.VotingClassifier.html\">?<span>Documentation for VotingClassifier</span></a><span class=\"sk-estimator-doc-link \">i<span>Not fitted</span></span></div></label><div class=\"sk-toggleable__content \"><pre>VotingClassifier(estimators=[(&#x27;reglog&#x27;,\n",
              "                              LogisticRegression(C=41.702300470257406)),\n",
              "                             (&#x27;knn&#x27;, KNeighborsClassifier(n_neighbors=8)),\n",
              "                             (&#x27;svc&#x27;,\n",
              "                              SVC(C=31.342517815924285,\n",
              "                                  coef0=0.6923226156693141, kernel=&#x27;linear&#x27;)),\n",
              "                             (&#x27;rf&#x27;,\n",
              "                              RandomForestClassifier(max_depth=30,\n",
              "                                                     max_features=None,\n",
              "                                                     min_samples_leaf=2,\n",
              "                                                     min_samples_split=10,\n",
              "                                                     n_estimators=80)),\n",
              "                             (&#x27;xgb&#x27;,\n",
              "                              XGBClassifier(base_score=...\n",
              "                              LGBMClassifier(colsample_bytree=0.7921945603689646,\n",
              "                                             learning_rate=0.17077360823925794,\n",
              "                                             max_depth=8, n_estimators=293,\n",
              "                                             num_leaves=38,\n",
              "                                             reg_alpha=5.993055369032842,\n",
              "                                             reg_lambda=7.097583600209312,\n",
              "                                             subsample=0.5511672144139129,\n",
              "                                             verbose=-1)),\n",
              "                             (&#x27;mlp&#x27;,\n",
              "                              MLPClassifier(activation=&#x27;logistic&#x27;,\n",
              "                                            alpha=4.930695935447459,\n",
              "                                            hidden_layer_sizes=(8,),\n",
              "                                            random_state=1, solver=&#x27;lbfgs&#x27;,\n",
              "                                            verbose=0))])</pre></div> </div></div><div class=\"sk-parallel\"><div class=\"sk-parallel-item\"><div class=\"sk-item\"><div class=\"sk-label-container\"><div class=\"sk-label  sk-toggleable\"><label>reglog</label></div></div><div class=\"sk-serial\"><div class=\"sk-item\"><div class=\"sk-estimator  sk-toggleable\"><input class=\"sk-toggleable__control sk-hidden--visually\" id=\"sk-estimator-id-2\" type=\"checkbox\" ><label for=\"sk-estimator-id-2\" class=\"sk-toggleable__label  sk-toggleable__label-arrow\"><div><div>LogisticRegression</div></div><div><a class=\"sk-estimator-doc-link \" rel=\"noreferrer\" target=\"_blank\" href=\"https://scikit-learn.org/1.6/modules/generated/sklearn.linear_model.LogisticRegression.html\">?<span>Documentation for LogisticRegression</span></a></div></label><div class=\"sk-toggleable__content \"><pre>LogisticRegression(C=41.702300470257406)</pre></div> </div></div></div></div></div><div class=\"sk-parallel-item\"><div class=\"sk-item\"><div class=\"sk-label-container\"><div class=\"sk-label  sk-toggleable\"><label>knn</label></div></div><div class=\"sk-serial\"><div class=\"sk-item\"><div class=\"sk-estimator  sk-toggleable\"><input class=\"sk-toggleable__control sk-hidden--visually\" id=\"sk-estimator-id-3\" type=\"checkbox\" ><label for=\"sk-estimator-id-3\" class=\"sk-toggleable__label  sk-toggleable__label-arrow\"><div><div>KNeighborsClassifier</div></div><div><a class=\"sk-estimator-doc-link \" rel=\"noreferrer\" target=\"_blank\" href=\"https://scikit-learn.org/1.6/modules/generated/sklearn.neighbors.KNeighborsClassifier.html\">?<span>Documentation for KNeighborsClassifier</span></a></div></label><div class=\"sk-toggleable__content \"><pre>KNeighborsClassifier(n_neighbors=8)</pre></div> </div></div></div></div></div><div class=\"sk-parallel-item\"><div class=\"sk-item\"><div class=\"sk-label-container\"><div class=\"sk-label  sk-toggleable\"><label>svc</label></div></div><div class=\"sk-serial\"><div class=\"sk-item\"><div class=\"sk-estimator  sk-toggleable\"><input class=\"sk-toggleable__control sk-hidden--visually\" id=\"sk-estimator-id-4\" type=\"checkbox\" ><label for=\"sk-estimator-id-4\" class=\"sk-toggleable__label  sk-toggleable__label-arrow\"><div><div>SVC</div></div><div><a class=\"sk-estimator-doc-link \" rel=\"noreferrer\" target=\"_blank\" href=\"https://scikit-learn.org/1.6/modules/generated/sklearn.svm.SVC.html\">?<span>Documentation for SVC</span></a></div></label><div class=\"sk-toggleable__content \"><pre>SVC(C=31.342517815924285, coef0=0.6923226156693141, kernel=&#x27;linear&#x27;)</pre></div> </div></div></div></div></div><div class=\"sk-parallel-item\"><div class=\"sk-item\"><div class=\"sk-label-container\"><div class=\"sk-label  sk-toggleable\"><label>rf</label></div></div><div class=\"sk-serial\"><div class=\"sk-item\"><div class=\"sk-estimator  sk-toggleable\"><input class=\"sk-toggleable__control sk-hidden--visually\" id=\"sk-estimator-id-5\" type=\"checkbox\" ><label for=\"sk-estimator-id-5\" class=\"sk-toggleable__label  sk-toggleable__label-arrow\"><div><div>RandomForestClassifier</div></div><div><a class=\"sk-estimator-doc-link \" rel=\"noreferrer\" target=\"_blank\" href=\"https://scikit-learn.org/1.6/modules/generated/sklearn.ensemble.RandomForestClassifier.html\">?<span>Documentation for RandomForestClassifier</span></a></div></label><div class=\"sk-toggleable__content \"><pre>RandomForestClassifier(max_depth=30, max_features=None, min_samples_leaf=2,\n",
              "                       min_samples_split=10, n_estimators=80)</pre></div> </div></div></div></div></div><div class=\"sk-parallel-item\"><div class=\"sk-item\"><div class=\"sk-label-container\"><div class=\"sk-label  sk-toggleable\"><label>xgb</label></div></div><div class=\"sk-serial\"><div class=\"sk-item\"><div class=\"sk-estimator  sk-toggleable\"><input class=\"sk-toggleable__control sk-hidden--visually\" id=\"sk-estimator-id-6\" type=\"checkbox\" ><label for=\"sk-estimator-id-6\" class=\"sk-toggleable__label  sk-toggleable__label-arrow\"><div><div>XGBClassifier</div></div></label><div class=\"sk-toggleable__content \"><pre>XGBClassifier(base_score=None, booster=None, callbacks=None,\n",
              "              colsample_bylevel=None, colsample_bynode=None,\n",
              "              colsample_bytree=0.930013974341444, device=None,\n",
              "              early_stopping_rounds=None, enable_categorical=False,\n",
              "              eval_metric=None, feature_types=None, gamma=2.6941553217082643,\n",
              "              grow_policy=None, importance_type=None,\n",
              "              interaction_constraints=None, learning_rate=0.16684659360572976,\n",
              "              max_bin=None, max_cat_threshold=None, max_cat_to_onehot=None,\n",
              "              max_delta_step=None, max_depth=8, max_leaves=None,\n",
              "              min_child_weight=None, missing=nan, monotone_constraints=None,\n",
              "              multi_strategy=None, n_estimators=194, n_jobs=None,\n",
              "              num_parallel_tree=None, random_state=None, ...)</pre></div> </div></div></div></div></div><div class=\"sk-parallel-item\"><div class=\"sk-item\"><div class=\"sk-label-container\"><div class=\"sk-label  sk-toggleable\"><label>lgb</label></div></div><div class=\"sk-serial\"><div class=\"sk-item\"><div class=\"sk-estimator  sk-toggleable\"><input class=\"sk-toggleable__control sk-hidden--visually\" id=\"sk-estimator-id-7\" type=\"checkbox\" ><label for=\"sk-estimator-id-7\" class=\"sk-toggleable__label  sk-toggleable__label-arrow\"><div><div>LGBMClassifier</div></div></label><div class=\"sk-toggleable__content \"><pre>LGBMClassifier(colsample_bytree=0.7921945603689646,\n",
              "               learning_rate=0.17077360823925794, max_depth=8, n_estimators=293,\n",
              "               num_leaves=38, reg_alpha=5.993055369032842,\n",
              "               reg_lambda=7.097583600209312, subsample=0.5511672144139129,\n",
              "               verbose=-1)</pre></div> </div></div></div></div></div><div class=\"sk-parallel-item\"><div class=\"sk-item\"><div class=\"sk-label-container\"><div class=\"sk-label  sk-toggleable\"><label>mlp</label></div></div><div class=\"sk-serial\"><div class=\"sk-item\"><div class=\"sk-estimator  sk-toggleable\"><input class=\"sk-toggleable__control sk-hidden--visually\" id=\"sk-estimator-id-8\" type=\"checkbox\" ><label for=\"sk-estimator-id-8\" class=\"sk-toggleable__label  sk-toggleable__label-arrow\"><div><div>MLPClassifier</div></div><div><a class=\"sk-estimator-doc-link \" rel=\"noreferrer\" target=\"_blank\" href=\"https://scikit-learn.org/1.6/modules/generated/sklearn.neural_network.MLPClassifier.html\">?<span>Documentation for MLPClassifier</span></a></div></label><div class=\"sk-toggleable__content \"><pre>MLPClassifier(activation=&#x27;logistic&#x27;, alpha=4.930695935447459,\n",
              "              hidden_layer_sizes=(8,), random_state=1, solver=&#x27;lbfgs&#x27;,\n",
              "              verbose=0)</pre></div> </div></div></div></div></div></div></div></div></div>"
            ]
          },
          "metadata": {},
          "execution_count": 9
        }
      ],
      "source": [
        "# Ensemble Models:\n",
        "base_models = [\n",
        "    ('reglog', reglog),\n",
        "    ('knn', knn),\n",
        "    ('svc', svc),\n",
        "    ('rf', rf),\n",
        "    ('xgb', xgb),\n",
        "    ('lgb', lgb),\n",
        "    ('mlp',mlp)\n",
        "]\n",
        "\n",
        "voting_model = VotingClassifier(estimators=base_models, voting='hard')\n",
        "\n",
        "voting_model"
      ]
    },
    {
      "cell_type": "code",
      "execution_count": null,
      "metadata": {
        "colab": {
          "base_uri": "https://localhost:8080/"
        },
        "id": "dbXNg8rRp-TP",
        "outputId": "5a35c7a0-1beb-431e-b06e-f6eb5b52d14c"
      },
      "outputs": [
        {
          "output_type": "stream",
          "name": "stderr",
          "text": [
            "/usr/local/lib/python3.11/dist-packages/sklearn/utils/deprecation.py:151: FutureWarning: 'force_all_finite' was renamed to 'ensure_all_finite' in 1.6 and will be removed in 1.8.\n",
            "  warnings.warn(\n",
            "/usr/local/lib/python3.11/dist-packages/sklearn/utils/deprecation.py:151: FutureWarning: 'force_all_finite' was renamed to 'ensure_all_finite' in 1.6 and will be removed in 1.8.\n",
            "  warnings.warn(\n",
            "/usr/local/lib/python3.11/dist-packages/sklearn/utils/deprecation.py:151: FutureWarning: 'force_all_finite' was renamed to 'ensure_all_finite' in 1.6 and will be removed in 1.8.\n",
            "  warnings.warn(\n",
            "/usr/local/lib/python3.11/dist-packages/sklearn/utils/deprecation.py:151: FutureWarning: 'force_all_finite' was renamed to 'ensure_all_finite' in 1.6 and will be removed in 1.8.\n",
            "  warnings.warn(\n"
          ]
        }
      ],
      "source": [
        "# Fitting the models to train data :\n",
        "for (model,model_name) in zip(models,model_names) :\n",
        "    model.fit(X_train,y_train.values.ravel());\n",
        "\n",
        "voting_model.fit(X_train, y_train.values.ravel());\n",
        "\n",
        "# Evaluate the generalization capacity of our models on a test set we kept :\n",
        "preds_test=pd.DataFrame(np.zeros([len(X_test),len(models)+1]),columns=[*model_names,\"Voting\"])\n",
        "res_test=list()\n",
        "for (model,model_name) in zip(models,model_names) :\n",
        "    preds_test[model_name]=model.predict(X_test)\n",
        "    res_test.append(accuracy_score(y_test,preds_test[model_name]))\n",
        "preds_test['Voting']=voting_model.predict(X_test)\n",
        "res_test.append(accuracy_score(y_test,preds_test['Voting']))"
      ]
    },
    {
      "cell_type": "code",
      "execution_count": null,
      "metadata": {
        "colab": {
          "base_uri": "https://localhost:8080/",
          "height": 482
        },
        "id": "T4VAtFAdp-TP",
        "outputId": "adb0944f-ec53-4fce-e21e-26fe7109134f"
      },
      "outputs": [
        {
          "output_type": "display_data",
          "data": {
            "text/plain": [
              "<Figure size 1000x500 with 1 Axes>"
            ],
            "image/png": "[encoded data removed]"
          },
          "metadata": {}
        }
      ],
      "source": [
        "# Plot the results :\n",
        "d=pd.concat([pd.DataFrame(res_test,columns=['Score']),pd.DataFrame([*model_names,\"Voting\"],columns=['Models'])],axis=1)\n",
        "plt.figure(figsize=(10,5))\n",
        "sns.pointplot(data=d,x='Models',y='Score')\n",
        "\n",
        "for i in range(len(res_test)) :\n",
        "    plt.text(i, res_test[i]+0.002, str(round(res_test[i],3)),verticalalignment='bottom',horizontalalignment='center')\n"
      ]
    },
    {
      "cell_type": "code",
      "execution_count": null,
      "metadata": {
        "colab": {
          "base_uri": "https://localhost:8080/"
        },
        "id": "-tLP6mrOp-TQ",
        "outputId": "146b9463-d1a1-485f-956f-7ce9121bfd45"
      },
      "outputs": [
        {
          "output_type": "execute_result",
          "data": {
            "text/plain": [
              "((418, 2),\n",
              "    PassengerId  Survived\n",
              " 0          892         0\n",
              " 1          893         1\n",
              " 2          894         0\n",
              " 3          895         0\n",
              " 4          896         1)"
            ]
          },
          "metadata": {},
          "execution_count": 79
        }
      ],
      "source": [
        "# Final predictions shape :\n",
        "path=Path('train_final.csv').parent.absolute()\n",
        "final_sub=pd.read_csv(path/'gender_submission.csv')\n",
        "final_sub.shape, final_sub.head()"
      ]
    },
    {
      "cell_type": "code",
      "source": [
        "confusion_matrix(y_test,preds_test['Logistic Reg']), confusion_matrix(y_test,preds_test['MLP'])"
      ],
      "metadata": {
        "colab": {
          "base_uri": "https://localhost:8080/"
        },
        "id": "08MHiUymsBjQ",
        "outputId": "1de20c3d-22b4-4a30-c73c-3627b8799260"
      },
      "execution_count": null,
      "outputs": [
        {
          "output_type": "execute_result",
          "data": {
            "text/plain": [
              "(array([[135,  18],\n",
              "        [ 36,  79]]),\n",
              " array([[136,  17],\n",
              "        [ 37,  78]]))"
            ]
          },
          "metadata": {},
          "execution_count": 26
        }
      ]
    },
    {
      "cell_type": "code",
      "source": [
        "print(\"Logistic regression :\\n\", classification_report(y_test,preds_test['Logistic Reg']),\"\\n\")\n",
        "\n",
        "print(\"MLP : \\n\", classification_report(y_test,preds_test['MLP']),\"\\n\")"
      ],
      "metadata": {
        "colab": {
          "base_uri": "https://localhost:8080/"
        },
        "id": "FErMYBwTsdaL",
        "outputId": "3b6ebc38-1351-4298-b080-93b99ec61317"
      },
      "execution_count": null,
      "outputs": [
        {
          "output_type": "stream",
          "name": "stdout",
          "text": [
            "Logistic regression :\n",
            "               precision    recall  f1-score   support\n",
            "\n",
            "           0       0.79      0.88      0.83       153\n",
            "           1       0.81      0.69      0.75       115\n",
            "\n",
            "    accuracy                           0.80       268\n",
            "   macro avg       0.80      0.78      0.79       268\n",
            "weighted avg       0.80      0.80      0.80       268\n",
            " \n",
            "\n",
            "MLP : \n",
            "               precision    recall  f1-score   support\n",
            "\n",
            "           0       0.79      0.89      0.83       153\n",
            "           1       0.82      0.68      0.74       115\n",
            "\n",
            "    accuracy                           0.80       268\n",
            "   macro avg       0.80      0.78      0.79       268\n",
            "weighted avg       0.80      0.80      0.80       268\n",
            " \n",
            "\n"
          ]
        }
      ]
    },
    {
      "cell_type": "code",
      "source": [
        "coef=pd.DataFrame(reglog.coef_,columns=tr.columns)\n",
        "\n",
        "coef.sort_values(by=0,axis=1,ascending=False,inplace=True)\n",
        "\n",
        "coef.plot(kind='bar',figsize=(15,5))"
      ],
      "metadata": {
        "colab": {
          "base_uri": "https://localhost:8080/",
          "height": 464
        },
        "id": "OaCG5FeltUId",
        "outputId": "9f9f375e-2e6e-4487-a6c7-e90ddc7b9956"
      },
      "execution_count": null,
      "outputs": [
        {
          "output_type": "execute_result",
          "data": {
            "text/plain": [
              "<Axes: >"
            ]
          },
          "metadata": {},
          "execution_count": 75
        },
        {
          "output_type": "display_data",
          "data": {
            "text/plain": [
              "<Figure size 1500x500 with 1 Axes>"
            ],
            "image/png": "[encoded data removed]"
          },
          "metadata": {}
        }
      ]
    },
    {
      "cell_type": "code",
      "execution_count": null,
      "metadata": {
        "id": "AeZOa_Grp-TQ"
      },
      "outputs": [],
      "source": [
        "# The best model for submission is the stacking model :\n",
        "final_sub['Survived']=reglog.predict(test_scaled)\n",
        "final_sub.head()\n",
        "\n",
        "# Write final submission in csv file to deliver :\n",
        "final_sub.to_csv(path/'final_submissions.csv', index=False)"
      ]
    },
    {
      "cell_type": "markdown",
      "source": [
        "## Tensorflow :"
      ],
      "metadata": {
        "id": "JOowvqkRv9VJ"
      }
    },
    {
      "cell_type": "code",
      "source": [
        "# Get the data and prepare it for tensorflow :\n",
        "path=Path(Path('train_final.csv').parent.absolute(),Path(\"Models parameters & Data\"))\n",
        "\n",
        "# Data :\n",
        "tr=pd.read_csv(path/'train_final.csv')\n",
        "te=pd.read_csv(path/'test_final.csv')\n",
        "y=pd.read_csv(path/'y_final.csv')\n",
        "\n",
        "# Normalization :\n",
        "scaler=StandardScaler()\n",
        "scaler.fit(tr)\n",
        "train_scaled = scaler.transform(tr)\n",
        "test_scaled = scaler.transform(te) # For the final prediction\n",
        "\n",
        "print(train_scaled.shape, test_scaled.shape, y.shape)\n",
        "\n",
        "# Splitting in train / test :\n",
        "X_train, X_test, y_train, y_test = train_test_split(train_scaled,y,test_size=0.3,random_state=1,shuffle=True) # 70/30%\n",
        "\n",
        "# Validation set :\n",
        "X_val, y_val = X_test[:int(len(X_test)*0.5)], y_test[:int(len(X_test)*0.5)]\n",
        "X_test, y_test = X_test[int(0.5*len(X_test)):], y_test[int(0.5*len(X_test)):]"
      ],
      "metadata": {
        "colab": {
          "base_uri": "https://localhost:8080/"
        },
        "id": "ABqbzUqbv_G7",
        "outputId": "4cb8e5e4-1317-4673-f0e2-39c7369f44da"
      },
      "execution_count": 89,
      "outputs": [
        {
          "output_type": "stream",
          "name": "stdout",
          "text": [
            "(891, 19) (418, 19) (891, 1)\n"
          ]
        }
      ]
    },
    {
      "cell_type": "code",
      "source": [
        "# Size of data, small enough to not work on a subset\n",
        "X_train.shape, y_train.shape, X_test.shape, y_test.shape, X_val.shape, y_val.shape # Data for training and testing"
      ],
      "metadata": {
        "colab": {
          "base_uri": "https://localhost:8080/"
        },
        "id": "AKlPkWLQKA1U",
        "outputId": "a3a2c9ce-abd4-4db5-c0c9-e393112cf684"
      },
      "execution_count": 47,
      "outputs": [
        {
          "output_type": "execute_result",
          "data": {
            "text/plain": [
              "((623, 19), (623, 1), (134, 19), (134, 1), (134, 19), (134, 1))"
            ]
          },
          "metadata": {},
          "execution_count": 47
        }
      ]
    },
    {
      "cell_type": "markdown",
      "source": [
        "### Model_0 :"
      ],
      "metadata": {
        "id": "MO4GT05mRHvq"
      }
    },
    {
      "cell_type": "code",
      "source": [
        "# Create the EarlyStopping callbacks :\n",
        "early_stopping = tf.keras.callbacks.EarlyStopping(monitor='val_loss',patience=5)"
      ],
      "metadata": {
        "id": "gci-dPKAQRmE"
      },
      "execution_count": 111,
      "outputs": []
    },
    {
      "cell_type": "code",
      "source": [
        "# Create the model and the different callbacks for the training.\n",
        "import random\n",
        "tf.random.set_seed(42)\n",
        "random.seed(42)\n",
        "\n",
        "model_0=tf.keras.Sequential([\n",
        "    tf.keras.layers.Dense(100,activation='relu'),\n",
        "    tf.keras.layers.Dense(10,activation='relu'),\n",
        "    tf.keras.layers.Dense(1,activation='sigmoid') #Sigmoid because binary classification\n",
        "])\n",
        "\n",
        "model_0.compile(loss=tf.keras.losses.BinaryCrossentropy(),\n",
        "                optimizer=tf.keras.optimizers.Adam(learning_rate=0.001),\n",
        "                metrics=['accuracy'])\n",
        "\n",
        "history_0 = model_0.fit(X_train,y_train,epochs=50,verbose=1,\n",
        "                        validation_data=[X_val,y_val],callbacks=[early_stopping])"
      ],
      "metadata": {
        "id": "hndmIfl1wJ02",
        "colab": {
          "base_uri": "https://localhost:8080/"
        },
        "outputId": "6a67a416-08bb-4a3a-b562-b2b0ee65a449"
      },
      "execution_count": 112,
      "outputs": [
        {
          "output_type": "stream",
          "name": "stdout",
          "text": [
            "Epoch 1/50\n",
            "\u001b[1m20/20\u001b[0m \u001b[32m━━━━━━━━━━━━━━━━━━━━\u001b[0m\u001b[37m\u001b[0m \u001b[1m2s\u001b[0m 22ms/step - accuracy: 0.6486 - loss: 0.6664 - val_accuracy: 0.7761 - val_loss: 0.5834\n",
            "Epoch 2/50\n",
            "\u001b[1m20/20\u001b[0m \u001b[32m━━━━━━━━━━━━━━━━━━━━\u001b[0m\u001b[37m\u001b[0m \u001b[1m0s\u001b[0m 10ms/step - accuracy: 0.8124 - loss: 0.5305 - val_accuracy: 0.7761 - val_loss: 0.5146\n",
            "Epoch 3/50\n",
            "\u001b[1m20/20\u001b[0m \u001b[32m━━━━━━━━━━━━━━━━━━━━\u001b[0m\u001b[37m\u001b[0m \u001b[1m0s\u001b[0m 10ms/step - accuracy: 0.8170 - loss: 0.4516 - val_accuracy: 0.7836 - val_loss: 0.4959\n",
            "Epoch 4/50\n",
            "\u001b[1m20/20\u001b[0m \u001b[32m━━━━━━━━━━━━━━━━━━━━\u001b[0m\u001b[37m\u001b[0m \u001b[1m0s\u001b[0m 9ms/step - accuracy: 0.8283 - loss: 0.4209 - val_accuracy: 0.7985 - val_loss: 0.4870\n",
            "Epoch 5/50\n",
            "\u001b[1m20/20\u001b[0m \u001b[32m━━━━━━━━━━━━━━━━━━━━\u001b[0m\u001b[37m\u001b[0m \u001b[1m0s\u001b[0m 8ms/step - accuracy: 0.8371 - loss: 0.4048 - val_accuracy: 0.8060 - val_loss: 0.4830\n",
            "Epoch 6/50\n",
            "\u001b[1m20/20\u001b[0m \u001b[32m━━━━━━━━━━━━━━━━━━━━\u001b[0m\u001b[37m\u001b[0m \u001b[1m0s\u001b[0m 5ms/step - accuracy: 0.8401 - loss: 0.3946 - val_accuracy: 0.8060 - val_loss: 0.4819\n",
            "Epoch 7/50\n",
            "\u001b[1m20/20\u001b[0m \u001b[32m━━━━━━━━━━━━━━━━━━━━\u001b[0m\u001b[37m\u001b[0m \u001b[1m0s\u001b[0m 5ms/step - accuracy: 0.8399 - loss: 0.3881 - val_accuracy: 0.7836 - val_loss: 0.4824\n",
            "Epoch 8/50\n",
            "\u001b[1m20/20\u001b[0m \u001b[32m━━━━━━━━━━━━━━━━━━━━\u001b[0m\u001b[37m\u001b[0m \u001b[1m0s\u001b[0m 5ms/step - accuracy: 0.8488 - loss: 0.3830 - val_accuracy: 0.7985 - val_loss: 0.4835\n",
            "Epoch 9/50\n",
            "\u001b[1m20/20\u001b[0m \u001b[32m━━━━━━━━━━━━━━━━━━━━\u001b[0m\u001b[37m\u001b[0m \u001b[1m0s\u001b[0m 5ms/step - accuracy: 0.8450 - loss: 0.3790 - val_accuracy: 0.7985 - val_loss: 0.4848\n",
            "Epoch 10/50\n",
            "\u001b[1m20/20\u001b[0m \u001b[32m━━━━━━━━━━━━━━━━━━━━\u001b[0m\u001b[37m\u001b[0m \u001b[1m0s\u001b[0m 7ms/step - accuracy: 0.8454 - loss: 0.3755 - val_accuracy: 0.7910 - val_loss: 0.4862\n",
            "Epoch 11/50\n",
            "\u001b[1m20/20\u001b[0m \u001b[32m━━━━━━━━━━━━━━━━━━━━\u001b[0m\u001b[37m\u001b[0m \u001b[1m0s\u001b[0m 5ms/step - accuracy: 0.8486 - loss: 0.3723 - val_accuracy: 0.7910 - val_loss: 0.4870\n"
          ]
        }
      ]
    },
    {
      "cell_type": "code",
      "source": [
        "pd.DataFrame(history_0.history).plot(title='Model_0')"
      ],
      "metadata": {
        "colab": {
          "base_uri": "https://localhost:8080/",
          "height": 469
        },
        "id": "VSDW1Hc7L8wd",
        "outputId": "f6a30355-14f2-4c59-e60b-89f0523c3313"
      },
      "execution_count": 113,
      "outputs": [
        {
          "output_type": "execute_result",
          "data": {
            "text/plain": [
              "<Axes: title={'center': 'Model_0'}>"
            ]
          },
          "metadata": {},
          "execution_count": 113
        },
        {
          "output_type": "display_data",
          "data": {
            "text/plain": [
              "<Figure size 640x480 with 1 Axes>"
            ],
            "image/png": "[encoded data removed]"
          },
          "metadata": {}
        }
      ]
    },
    {
      "cell_type": "markdown",
      "source": [
        "### Model_1 :"
      ],
      "metadata": {
        "id": "zlV2BW8dRELu"
      }
    },
    {
      "cell_type": "code",
      "source": [
        "# Create the model and the different callbacks for the training.\n",
        "import random\n",
        "tf.random.set_seed(42)\n",
        "random.seed(42)\n",
        "\n",
        "model_1=tf.keras.Sequential([\n",
        "    tf.keras.layers.Dense(100,activation='relu'),\n",
        "    tf.keras.layers.Dropout(0.4),\n",
        "    tf.keras.layers.Dense(100,activation='relu'),\n",
        "    tf.keras.layers.Dropout(0.4),\n",
        "    tf.keras.layers.Dense(100,activation='relu'),\n",
        "    tf.keras.layers.Dropout(0.4),\n",
        "    tf.keras.layers.Dense(50,activation='relu'),\n",
        "    tf.keras.layers.Dense(10,activation='relu'),\n",
        "    tf.keras.layers.Dense(1,activation='sigmoid') #Sigmoid because binary classification\n",
        "])\n",
        "\n",
        "model_1.compile(loss=tf.keras.losses.BinaryCrossentropy(),\n",
        "                optimizer=tf.keras.optimizers.Adam(learning_rate=0.001),\n",
        "                metrics=['accuracy'])\n",
        "\n",
        "history_1 = model_1.fit(X_train,y_train,epochs=50,verbose=1,\n",
        "                        validation_data=[X_val,y_val],callbacks=[early_stopping])"
      ],
      "metadata": {
        "colab": {
          "base_uri": "https://localhost:8080/"
        },
        "id": "hGkNVy3NRJv7",
        "outputId": "8272f6a5-a698-44df-e220-9d479c5c91b1"
      },
      "execution_count": 114,
      "outputs": [
        {
          "output_type": "stream",
          "name": "stdout",
          "text": [
            "Epoch 1/50\n",
            "\u001b[1m20/20\u001b[0m \u001b[32m━━━━━━━━━━━━━━━━━━━━\u001b[0m\u001b[37m\u001b[0m \u001b[1m3s\u001b[0m 15ms/step - accuracy: 0.5712 - loss: 0.7072 - val_accuracy: 0.5970 - val_loss: 0.6228\n",
            "Epoch 2/50\n",
            "\u001b[1m20/20\u001b[0m \u001b[32m━━━━━━━━━━━━━━━━━━━━\u001b[0m\u001b[37m\u001b[0m \u001b[1m0s\u001b[0m 6ms/step - accuracy: 0.6380 - loss: 0.6146 - val_accuracy: 0.7687 - val_loss: 0.5636\n",
            "Epoch 3/50\n",
            "\u001b[1m20/20\u001b[0m \u001b[32m━━━━━━━━━━━━━━━━━━━━\u001b[0m\u001b[37m\u001b[0m \u001b[1m0s\u001b[0m 8ms/step - accuracy: 0.7551 - loss: 0.5443 - val_accuracy: 0.7836 - val_loss: 0.5508\n",
            "Epoch 4/50\n",
            "\u001b[1m20/20\u001b[0m \u001b[32m━━━━━━━━━━━━━━━━━━━━\u001b[0m\u001b[37m\u001b[0m \u001b[1m0s\u001b[0m 6ms/step - accuracy: 0.7860 - loss: 0.5145 - val_accuracy: 0.7761 - val_loss: 0.5285\n",
            "Epoch 5/50\n",
            "\u001b[1m20/20\u001b[0m \u001b[32m━━━━━━━━━━━━━━━━━━━━\u001b[0m\u001b[37m\u001b[0m \u001b[1m0s\u001b[0m 5ms/step - accuracy: 0.8056 - loss: 0.4831 - val_accuracy: 0.7687 - val_loss: 0.5058\n",
            "Epoch 6/50\n",
            "\u001b[1m20/20\u001b[0m \u001b[32m━━━━━━━━━━━━━━━━━━━━\u001b[0m\u001b[37m\u001b[0m \u001b[1m0s\u001b[0m 6ms/step - accuracy: 0.8146 - loss: 0.4562 - val_accuracy: 0.7985 - val_loss: 0.5015\n",
            "Epoch 7/50\n",
            "\u001b[1m20/20\u001b[0m \u001b[32m━━━━━━━━━━━━━━━━━━━━\u001b[0m\u001b[37m\u001b[0m \u001b[1m0s\u001b[0m 6ms/step - accuracy: 0.8124 - loss: 0.4425 - val_accuracy: 0.8060 - val_loss: 0.4911\n",
            "Epoch 8/50\n",
            "\u001b[1m20/20\u001b[0m \u001b[32m━━━━━━━━━━━━━━━━━━━━\u001b[0m\u001b[37m\u001b[0m \u001b[1m0s\u001b[0m 6ms/step - accuracy: 0.8042 - loss: 0.4715 - val_accuracy: 0.7985 - val_loss: 0.4926\n",
            "Epoch 9/50\n",
            "\u001b[1m20/20\u001b[0m \u001b[32m━━━━━━━━━━━━━━━━━━━━\u001b[0m\u001b[37m\u001b[0m \u001b[1m0s\u001b[0m 7ms/step - accuracy: 0.8099 - loss: 0.4489 - val_accuracy: 0.7910 - val_loss: 0.4851\n",
            "Epoch 10/50\n",
            "\u001b[1m20/20\u001b[0m \u001b[32m━━━━━━━━━━━━━━━━━━━━\u001b[0m\u001b[37m\u001b[0m \u001b[1m0s\u001b[0m 6ms/step - accuracy: 0.8234 - loss: 0.4260 - val_accuracy: 0.7761 - val_loss: 0.5018\n",
            "Epoch 11/50\n",
            "\u001b[1m20/20\u001b[0m \u001b[32m━━━━━━━━━━━━━━━━━━━━\u001b[0m\u001b[37m\u001b[0m \u001b[1m0s\u001b[0m 5ms/step - accuracy: 0.8199 - loss: 0.4459 - val_accuracy: 0.7985 - val_loss: 0.4794\n",
            "Epoch 12/50\n",
            "\u001b[1m20/20\u001b[0m \u001b[32m━━━━━━━━━━━━━━━━━━━━\u001b[0m\u001b[37m\u001b[0m \u001b[1m0s\u001b[0m 5ms/step - accuracy: 0.8433 - loss: 0.4074 - val_accuracy: 0.8060 - val_loss: 0.4907\n",
            "Epoch 13/50\n",
            "\u001b[1m20/20\u001b[0m \u001b[32m━━━━━━━━━━━━━━━━━━━━\u001b[0m\u001b[37m\u001b[0m \u001b[1m0s\u001b[0m 8ms/step - accuracy: 0.8048 - loss: 0.4651 - val_accuracy: 0.7761 - val_loss: 0.4919\n",
            "Epoch 14/50\n",
            "\u001b[1m20/20\u001b[0m \u001b[32m━━━━━━━━━━━━━━━━━━━━\u001b[0m\u001b[37m\u001b[0m \u001b[1m0s\u001b[0m 6ms/step - accuracy: 0.8145 - loss: 0.4448 - val_accuracy: 0.7836 - val_loss: 0.4846\n",
            "Epoch 15/50\n",
            "\u001b[1m20/20\u001b[0m \u001b[32m━━━━━━━━━━━━━━━━━━━━\u001b[0m\u001b[37m\u001b[0m \u001b[1m0s\u001b[0m 7ms/step - accuracy: 0.8239 - loss: 0.4179 - val_accuracy: 0.7836 - val_loss: 0.4936\n",
            "Epoch 16/50\n",
            "\u001b[1m20/20\u001b[0m \u001b[32m━━━━━━━━━━━━━━━━━━━━\u001b[0m\u001b[37m\u001b[0m \u001b[1m0s\u001b[0m 6ms/step - accuracy: 0.8386 - loss: 0.3932 - val_accuracy: 0.7836 - val_loss: 0.5007\n"
          ]
        }
      ]
    },
    {
      "cell_type": "code",
      "source": [
        "pd.DataFrame(history_1.history).plot(title='Model_1')"
      ],
      "metadata": {
        "colab": {
          "base_uri": "https://localhost:8080/",
          "height": 469
        },
        "id": "CyiyLfTHRYW2",
        "outputId": "55443f0b-5476-4f90-fe18-8fb485442c0b"
      },
      "execution_count": 115,
      "outputs": [
        {
          "output_type": "execute_result",
          "data": {
            "text/plain": [
              "<Axes: title={'center': 'Model_1'}>"
            ]
          },
          "metadata": {},
          "execution_count": 115
        },
        {
          "output_type": "display_data",
          "data": {
            "text/plain": [
              "<Figure size 640x480 with 1 Axes>"
            ],
            "image/png": "[encoded data removed]"
          },
          "metadata": {}
        }
      ]
    },
    {
      "cell_type": "markdown",
      "source": [
        "### Model_2 :"
      ],
      "metadata": {
        "id": "rTh7qrPfW2SX"
      }
    },
    {
      "cell_type": "code",
      "source": [
        "lr_schedule=tf.keras.callbacks.ReduceLROnPlateau(monitor=\"val_loss\",\n",
        "                                                 factor=0.8,\n",
        "                                                 patience=2,\n",
        "                                                 verbose=1, # print out when learning rate goes down\n",
        "                                                 min_lr=1e-7)"
      ],
      "metadata": {
        "id": "_hoYuuWyW8Yc"
      },
      "execution_count": 149,
      "outputs": []
    },
    {
      "cell_type": "code",
      "source": [
        "# Create the model and the different callbacks for the training.\n",
        "import random\n",
        "tf.random.set_seed(42)\n",
        "random.seed(42)\n",
        "\n",
        "model_2=tf.keras.Sequential([\n",
        "    tf.keras.layers.Dense(100,activation='relu'),\n",
        "    tf.keras.layers.Dense(10,activation='relu'),\n",
        "    tf.keras.layers.Dense(1,activation='sigmoid') #Sigmoid because binary classification\n",
        "])\n",
        "\n",
        "model_2.compile(loss=tf.keras.losses.BinaryCrossentropy(),\n",
        "                optimizer=tf.keras.optimizers.Adam(learning_rate=0.001),\n",
        "                metrics=['accuracy'])\n",
        "\n",
        "history_2 = model_2.fit(X_train,y_train,epochs=50,verbose=1,\n",
        "                        validation_data=[X_val,y_val],callbacks=[early_stopping,lr_schedule])"
      ],
      "metadata": {
        "colab": {
          "base_uri": "https://localhost:8080/"
        },
        "id": "IJTMbsQwW6oX",
        "outputId": "851484b0-e944-42af-eab0-abebe64f3991"
      },
      "execution_count": 150,
      "outputs": [
        {
          "output_type": "stream",
          "name": "stdout",
          "text": [
            "Epoch 1/50\n",
            "\u001b[1m20/20\u001b[0m \u001b[32m━━━━━━━━━━━━━━━━━━━━\u001b[0m\u001b[37m\u001b[0m \u001b[1m2s\u001b[0m 14ms/step - accuracy: 0.6486 - loss: 0.6664 - val_accuracy: 0.7761 - val_loss: 0.5834 - learning_rate: 0.0010\n",
            "Epoch 2/50\n",
            "\u001b[1m20/20\u001b[0m \u001b[32m━━━━━━━━━━━━━━━━━━━━\u001b[0m\u001b[37m\u001b[0m \u001b[1m0s\u001b[0m 5ms/step - accuracy: 0.8124 - loss: 0.5305 - val_accuracy: 0.7761 - val_loss: 0.5146 - learning_rate: 0.0010\n",
            "Epoch 3/50\n",
            "\u001b[1m20/20\u001b[0m \u001b[32m━━━━━━━━━━━━━━━━━━━━\u001b[0m\u001b[37m\u001b[0m \u001b[1m0s\u001b[0m 5ms/step - accuracy: 0.8170 - loss: 0.4516 - val_accuracy: 0.7836 - val_loss: 0.4959 - learning_rate: 0.0010\n",
            "Epoch 4/50\n",
            "\u001b[1m20/20\u001b[0m \u001b[32m━━━━━━━━━━━━━━━━━━━━\u001b[0m\u001b[37m\u001b[0m \u001b[1m0s\u001b[0m 7ms/step - accuracy: 0.8283 - loss: 0.4209 - val_accuracy: 0.7985 - val_loss: 0.4870 - learning_rate: 0.0010\n",
            "Epoch 5/50\n",
            "\u001b[1m20/20\u001b[0m \u001b[32m━━━━━━━━━━━━━━━━━━━━\u001b[0m\u001b[37m\u001b[0m \u001b[1m0s\u001b[0m 5ms/step - accuracy: 0.8371 - loss: 0.4048 - val_accuracy: 0.8060 - val_loss: 0.4830 - learning_rate: 0.0010\n",
            "Epoch 6/50\n",
            "\u001b[1m20/20\u001b[0m \u001b[32m━━━━━━━━━━━━━━━━━━━━\u001b[0m\u001b[37m\u001b[0m \u001b[1m0s\u001b[0m 6ms/step - accuracy: 0.8401 - loss: 0.3946 - val_accuracy: 0.8060 - val_loss: 0.4819 - learning_rate: 0.0010\n",
            "Epoch 7/50\n",
            "\u001b[1m20/20\u001b[0m \u001b[32m━━━━━━━━━━━━━━━━━━━━\u001b[0m\u001b[37m\u001b[0m \u001b[1m0s\u001b[0m 5ms/step - accuracy: 0.8399 - loss: 0.3881 - val_accuracy: 0.7836 - val_loss: 0.4824 - learning_rate: 0.0010\n",
            "Epoch 8/50\n",
            "\u001b[1m 1/20\u001b[0m \u001b[32m━\u001b[0m\u001b[37m━━━━━━━━━━━━━━━━━━━\u001b[0m \u001b[1m0s\u001b[0m 46ms/step - accuracy: 0.7500 - loss: 0.5729\n",
            "Epoch 8: ReduceLROnPlateau reducing learning rate to 0.000800000037997961.\n",
            "\u001b[1m20/20\u001b[0m \u001b[32m━━━━━━━━━━━━━━━━━━━━\u001b[0m\u001b[37m\u001b[0m \u001b[1m0s\u001b[0m 5ms/step - accuracy: 0.8488 - loss: 0.3830 - val_accuracy: 0.7985 - val_loss: 0.4835 - learning_rate: 0.0010\n",
            "Epoch 9/50\n",
            "\u001b[1m20/20\u001b[0m \u001b[32m━━━━━━━━━━━━━━━━━━━━\u001b[0m\u001b[37m\u001b[0m \u001b[1m0s\u001b[0m 5ms/step - accuracy: 0.8450 - loss: 0.3786 - val_accuracy: 0.7985 - val_loss: 0.4844 - learning_rate: 8.0000e-04\n",
            "Epoch 10/50\n",
            "\u001b[1m 1/20\u001b[0m \u001b[32m━\u001b[0m\u001b[37m━━━━━━━━━━━━━━━━━━━\u001b[0m \u001b[1m0s\u001b[0m 44ms/step - accuracy: 0.7500 - loss: 0.5710\n",
            "Epoch 10: ReduceLROnPlateau reducing learning rate to 0.0006400000303983689.\n",
            "\u001b[1m20/20\u001b[0m \u001b[32m━━━━━━━━━━━━━━━━━━━━\u001b[0m\u001b[37m\u001b[0m \u001b[1m0s\u001b[0m 5ms/step - accuracy: 0.8450 - loss: 0.3755 - val_accuracy: 0.7910 - val_loss: 0.4853 - learning_rate: 8.0000e-04\n",
            "Epoch 11/50\n",
            "\u001b[1m20/20\u001b[0m \u001b[32m━━━━━━━━━━━━━━━━━━━━\u001b[0m\u001b[37m\u001b[0m \u001b[1m0s\u001b[0m 7ms/step - accuracy: 0.8454 - loss: 0.3725 - val_accuracy: 0.7910 - val_loss: 0.4858 - learning_rate: 6.4000e-04\n"
          ]
        }
      ]
    },
    {
      "cell_type": "code",
      "source": [
        "history_2.history.pop(\"learning_rate\")\n",
        "pd.DataFrame(history_2.history).plot(title='Model_2')"
      ],
      "metadata": {
        "colab": {
          "base_uri": "https://localhost:8080/",
          "height": 469
        },
        "id": "KevEDNrpW8Ae",
        "outputId": "fff387cd-514e-485f-f8f1-ae3d2ca02891"
      },
      "execution_count": 151,
      "outputs": [
        {
          "output_type": "execute_result",
          "data": {
            "text/plain": [
              "<Axes: title={'center': 'Model_2'}>"
            ]
          },
          "metadata": {},
          "execution_count": 151
        },
        {
          "output_type": "display_data",
          "data": {
            "text/plain": [
              "<Figure size 640x480 with 1 Axes>"
            ],
            "image/png": "[encoded data removed]"
          },
          "metadata": {}
        }
      ]
    },
    {
      "cell_type": "markdown",
      "source": [
        "### Evaluating the models on test data :"
      ],
      "metadata": {
        "id": "MmiOzqSeYb_y"
      }
    },
    {
      "cell_type": "code",
      "source": [
        "pred=model_0.predict(X_test).round()\n",
        "print('Model 0 :', accuracy_score(y_test,pred))\n",
        "\n",
        "pred=model_1.predict(X_test).round()\n",
        "print('Model 1 :', accuracy_score(y_test,pred))\n",
        "\n",
        "pred=model_2.predict(X_test).round()\n",
        "print('Model 2 :', accuracy_score(y_test,pred))"
      ],
      "metadata": {
        "colab": {
          "base_uri": "https://localhost:8080/"
        },
        "id": "hIXCWa3wYhz6",
        "outputId": "ea2c769d-b8c6-4787-c102-e51490cc3bc3"
      },
      "execution_count": 152,
      "outputs": [
        {
          "output_type": "stream",
          "name": "stdout",
          "text": [
            "\u001b[1m5/5\u001b[0m \u001b[32m━━━━━━━━━━━━━━━━━━━━\u001b[0m\u001b[37m\u001b[0m \u001b[1m0s\u001b[0m 7ms/step \n",
            "Model 0 : 0.7835820895522388\n",
            "\u001b[1m5/5\u001b[0m \u001b[32m━━━━━━━━━━━━━━━━━━━━\u001b[0m\u001b[37m\u001b[0m \u001b[1m0s\u001b[0m 9ms/step \n",
            "Model 1 : 0.7761194029850746\n",
            "\u001b[1m5/5\u001b[0m \u001b[32m━━━━━━━━━━━━━━━━━━━━\u001b[0m\u001b[37m\u001b[0m \u001b[1m0s\u001b[0m 11ms/step\n",
            "Model 2 : 0.7835820895522388\n"
          ]
        }
      ]
    }
  ],
  "metadata": {
    "colab": {
      "provenance": [],
      "collapsed_sections": [
        "MO4GT05mRHvq",
        "zlV2BW8dRELu",
        "rTh7qrPfW2SX"
      ]
    },
    "kernelspec": {
      "display_name": "Python 3",
      "name": "python3"
    },
    "language_info": {
      "codemirror_mode": {
        "name": "ipython",
        "version": 3
      },
      "file_extension": ".py",
      "mimetype": "text/x-python",
      "name": "python",
      "nbconvert_exporter": "python",
      "pygments_lexer": "ipython3",
      "version": "3.10.11"
    }
  },
  "nbformat": 4,
  "nbformat_minor": 0
}